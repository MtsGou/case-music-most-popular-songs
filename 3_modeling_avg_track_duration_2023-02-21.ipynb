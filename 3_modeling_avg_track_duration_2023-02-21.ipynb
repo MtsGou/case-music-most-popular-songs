{
 "cells": [
  {
   "attachments": {},
   "cell_type": "markdown",
   "metadata": {},
   "source": [
    "# Modeling Section #\n",
    "## 1. Average track duration prediction"
   ]
  },
  {
   "attachments": {},
   "cell_type": "markdown",
   "metadata": {},
   "source": [
    "In this section, I'm going to try some different models for explaining and predicting track duration and popularity behavior over the years, also using other variables such as valence and energy to find a model that can be well fit to the dataset. "
   ]
  },
  {
   "attachments": {},
   "cell_type": "markdown",
   "metadata": {},
   "source": [
    "### Collecting packages"
   ]
  },
  {
   "cell_type": "code",
   "execution_count": 1,
   "metadata": {},
   "outputs": [],
   "source": [
    "# Collecting packages\n",
    "from pyspark import SparkContext, SparkConf\n",
    "from pyspark.sql import SparkSession\n",
    "from pyspark.sql.types import *\n",
    "from pyspark.sql.functions import col, round\n",
    "import pandas as pd\n",
    "import numpy as np"
   ]
  },
  {
   "attachments": {},
   "cell_type": "markdown",
   "metadata": {},
   "source": [
    "### Starting Spark Context and Spark Session"
   ]
  },
  {
   "cell_type": "code",
   "execution_count": 2,
   "metadata": {},
   "outputs": [],
   "source": [
    "# Configure SparkUI\n",
    "conf = SparkConf().set('spark.ui.port', '4050')\n",
    "\n",
    "# Create a URL through you can access the Spark UI\n",
    "get_ipython().system_raw('./ngrok http 4050 &')\n",
    "\n",
    "# Access the URL\n",
    "!curl -s http://localhost:4040/api/tunnels \n",
    "\n",
    "# Creating a context. Access SparkUI now in localhost:4050\n",
    "sc = SparkContext(conf=conf)"
   ]
  },
  {
   "cell_type": "code",
   "execution_count": 3,
   "metadata": {},
   "outputs": [],
   "source": [
    "# Starting Spark Session\n",
    "spark = (\n",
    "    SparkSession.builder                  \n",
    "      .config('spark.ui.port', '4050')\n",
    "      .appName(\"music_spark_session\")\n",
    "      .getOrCreate()\n",
    ")"
   ]
  },
  {
   "attachments": {},
   "cell_type": "markdown",
   "metadata": {},
   "source": [
    "### Collecting clean data from data preparation section"
   ]
  },
  {
   "cell_type": "code",
   "execution_count": 4,
   "metadata": {},
   "outputs": [],
   "source": [
    "path_data = \"clean_data_music.csv\"\n",
    "\n",
    "schema_music = StructType([\n",
    "    StructField('Index', IntegerType()),\n",
    "    StructField('Track_duration', IntegerType()),\n",
    "    StructField('Popularity', IntegerType()),\n",
    "    StructField('Danceability', DoubleType()),\n",
    "    StructField('Energy', DoubleType()),\n",
    "    StructField('Key', IntegerType()),\n",
    "    StructField('Loudness', DoubleType()),\n",
    "    StructField('Acousticness', DoubleType()),\n",
    "    StructField('Instrumentalness', DoubleType()),\n",
    "    StructField('Liveness', DoubleType()),\n",
    "    StructField('Valence', DoubleType()),\n",
    "    StructField('Tempo', DoubleType()),\n",
    "    StructField('Year', IntegerType())\n",
    "])\n"
   ]
  },
  {
   "cell_type": "code",
   "execution_count": 5,
   "metadata": {},
   "outputs": [],
   "source": [
    "df = spark.read.csv(\n",
    "    path_data,\n",
    "    header=True,\n",
    "    sep=',',\n",
    "    schema=schema_music\n",
    ").drop('index')"
   ]
  },
  {
   "cell_type": "code",
   "execution_count": 6,
   "metadata": {},
   "outputs": [
    {
     "name": "stdout",
     "output_type": "stream",
     "text": [
      "+--------------+----------+------------+------+---+--------+------------+----------------+--------+-------+-------+----+\n",
      "|Track_duration|Popularity|Danceability|Energy|Key|Loudness|Acousticness|Instrumentalness|Liveness|Valence|  Tempo|Year|\n",
      "+--------------+----------+------------+------+---+--------+------------+----------------+--------+-------+-------+----+\n",
      "|        216270|         0|       0.617| 0.872|  8| -12.305|      0.0158|           0.112|   0.408|  0.504|111.458|1992|\n",
      "|        237120|        64|       0.825| 0.743|  2|  -5.995|      0.0142|         2.12E-5|   0.237|    0.8|127.045|2009|\n",
      "|        312533|        56|       0.677| 0.665|  7|  -5.171|        0.56|         1.01E-6|   0.338|  0.706| 74.981|1999|\n",
      "|        233400|        42|       0.683| 0.728|  9|   -8.92|       0.568|         5.08E-5|  0.0384|  0.833| 75.311|2014|\n",
      "|        448720|         0|       0.319| 0.627|  0|  -9.611|       0.675|         7.29E-5|   0.289|  0.497| 85.818|1969|\n",
      "|        193346|        79|       0.671|  0.71|  9|  -7.724|      0.0393|         1.12E-5|  0.0387|  0.834|118.745|1977|\n",
      "|        173799|        78|        0.56|  0.68|  6|  -7.648|       0.555|             0.0|   0.116|  0.319| 89.391|2018|\n",
      "|        240546|        61|        0.48| 0.628|  6|  -7.643|       0.174|         3.28E-5|  0.0753|  0.541|143.412|1997|\n",
      "|        259800|        74|       0.357| 0.653|  9|  -5.554|      0.0828|             0.0|  0.0844|  0.522|176.647|1981|\n",
      "|        208733|         0|       0.562| 0.681| 11|  -4.934|       0.113|             0.0|    0.11|  0.357|148.064|2016|\n",
      "|        250626|        68|       0.852| 0.874|  7| -11.208|      0.0168|            0.45|   0.133|  0.666|129.029|2002|\n",
      "|        238733|        80|       0.557| 0.533| 10|  -6.817|      0.0492|             0.0|   0.205|  0.233|143.994|2002|\n",
      "|        149106|        31|        0.26| 0.659|  2|   -8.98|       0.114|         2.95E-5|   0.499|  0.537| 184.38|2003|\n",
      "|        344773|         0|       0.652| 0.372|  6| -15.445|       0.069|         1.97E-4|  0.0923|  0.283|111.984|1978|\n",
      "|        235382|        73|       0.818|  0.67|  8|  -4.451|       0.304|         1.22E-6|  0.0601|  0.939|119.988|2014|\n",
      "|        273800|        58|       0.605| 0.731| 10|  -9.327|        0.24|         4.59E-4|   0.257|  0.638|123.332|1976|\n",
      "|        185266|         5|       0.813| 0.754|  4|  -3.911|       0.166|             0.0|   0.121|  0.923|112.962|2016|\n",
      "|        122958|         6|       0.483| 0.533|  6|  -9.883|       0.805|             0.0|   0.161|  0.878| 140.11|2016|\n",
      "|        189320|        15|       0.736| 0.563|  2| -13.837|      0.0165|             0.0|   0.166|   0.96|102.021|2012|\n",
      "|        226760|         0|       0.637| 0.416|  2|  -7.595|       0.434|             0.0|   0.139|  0.588|145.922|2011|\n",
      "+--------------+----------+------------+------+---+--------+------------+----------------+--------+-------+-------+----+\n",
      "only showing top 20 rows\n",
      "\n"
     ]
    }
   ],
   "source": [
    "df.show()"
   ]
  },
  {
   "attachments": {},
   "cell_type": "markdown",
   "metadata": {},
   "source": [
    "### Fit track duration average by year with non linear model"
   ]
  },
  {
   "cell_type": "code",
   "execution_count": 7,
   "metadata": {},
   "outputs": [],
   "source": [
    "df_track_dur = df.select('Year', 'Track_duration')\\\n",
    "                 .groupBy('Year').avg('Track_duration').orderBy('Year')\\\n",
    "                 .withColumnRenamed('avg(Track_duration)', 'Track_duration')\\\n",
    "                 .withColumn('Track_duration', round(col('Track_duration'), 2))\n"
   ]
  },
  {
   "cell_type": "code",
   "execution_count": 8,
   "metadata": {},
   "outputs": [],
   "source": [
    "df_track_dur = df_track_dur.toPandas()"
   ]
  },
  {
   "cell_type": "code",
   "execution_count": 9,
   "metadata": {},
   "outputs": [
    {
     "data": {
      "text/html": [
       "<div>\n",
       "<style scoped>\n",
       "    .dataframe tbody tr th:only-of-type {\n",
       "        vertical-align: middle;\n",
       "    }\n",
       "\n",
       "    .dataframe tbody tr th {\n",
       "        vertical-align: top;\n",
       "    }\n",
       "\n",
       "    .dataframe thead th {\n",
       "        text-align: right;\n",
       "    }\n",
       "</style>\n",
       "<table border=\"1\" class=\"dataframe\">\n",
       "  <thead>\n",
       "    <tr style=\"text-align: right;\">\n",
       "      <th></th>\n",
       "      <th>Year</th>\n",
       "      <th>Track_duration</th>\n",
       "    </tr>\n",
       "  </thead>\n",
       "  <tbody>\n",
       "    <tr>\n",
       "      <th>0</th>\n",
       "      <td>1956</td>\n",
       "      <td>119200.00</td>\n",
       "    </tr>\n",
       "    <tr>\n",
       "      <th>1</th>\n",
       "      <td>1958</td>\n",
       "      <td>139411.91</td>\n",
       "    </tr>\n",
       "    <tr>\n",
       "      <th>2</th>\n",
       "      <td>1959</td>\n",
       "      <td>227953.00</td>\n",
       "    </tr>\n",
       "    <tr>\n",
       "      <th>3</th>\n",
       "      <td>1960</td>\n",
       "      <td>162591.80</td>\n",
       "    </tr>\n",
       "    <tr>\n",
       "      <th>4</th>\n",
       "      <td>1961</td>\n",
       "      <td>160295.55</td>\n",
       "    </tr>\n",
       "    <tr>\n",
       "      <th>5</th>\n",
       "      <td>1962</td>\n",
       "      <td>152770.45</td>\n",
       "    </tr>\n",
       "    <tr>\n",
       "      <th>6</th>\n",
       "      <td>1963</td>\n",
       "      <td>153689.96</td>\n",
       "    </tr>\n",
       "    <tr>\n",
       "      <th>7</th>\n",
       "      <td>1964</td>\n",
       "      <td>155397.08</td>\n",
       "    </tr>\n",
       "    <tr>\n",
       "      <th>8</th>\n",
       "      <td>1965</td>\n",
       "      <td>176746.79</td>\n",
       "    </tr>\n",
       "    <tr>\n",
       "      <th>9</th>\n",
       "      <td>1966</td>\n",
       "      <td>162602.03</td>\n",
       "    </tr>\n",
       "  </tbody>\n",
       "</table>\n",
       "</div>"
      ],
      "text/plain": [
       "   Year  Track_duration\n",
       "0  1956       119200.00\n",
       "1  1958       139411.91\n",
       "2  1959       227953.00\n",
       "3  1960       162591.80\n",
       "4  1961       160295.55\n",
       "5  1962       152770.45\n",
       "6  1963       153689.96\n",
       "7  1964       155397.08\n",
       "8  1965       176746.79\n",
       "9  1966       162602.03"
      ]
     },
     "execution_count": 9,
     "metadata": {},
     "output_type": "execute_result"
    }
   ],
   "source": [
    "df_track_dur.head(10)"
   ]
  },
  {
   "cell_type": "code",
   "execution_count": 10,
   "metadata": {},
   "outputs": [],
   "source": [
    "from sklearn.linear_model import LinearRegression\n",
    "\n",
    "X = df_track_dur.drop('Track_duration', axis = 1).copy()\n",
    "y = df_track_dur['Track_duration'].copy()\n",
    "\n",
    "linear_reg = LinearRegression()\n",
    "linear_reg.fit(X, y);"
   ]
  },
  {
   "attachments": {},
   "cell_type": "markdown",
   "metadata": {},
   "source": [
    "Ajusting with Polynomial, with 3rd degree curve"
   ]
  },
  {
   "cell_type": "code",
   "execution_count": 11,
   "metadata": {},
   "outputs": [],
   "source": [
    "from sklearn.preprocessing import PolynomialFeatures\n",
    "\n",
    "poly_features = PolynomialFeatures(degree=3, include_bias=False)\n",
    "\n",
    "X_poly = poly_features.fit_transform(X)"
   ]
  },
  {
   "cell_type": "code",
   "execution_count": 12,
   "metadata": {},
   "outputs": [],
   "source": [
    "linear_reg.fit(X_poly, y)\n",
    "\n",
    "y_fit_poly = linear_reg.predict(X_poly)"
   ]
  },
  {
   "cell_type": "code",
   "execution_count": 13,
   "metadata": {},
   "outputs": [
    {
     "data": {
      "image/png": "[encoded data removed]",
      "text/plain": [
       "<Figure size 640x480 with 1 Axes>"
      ]
     },
     "metadata": {},
     "output_type": "display_data"
    }
   ],
   "source": [
    "import matplotlib.pyplot as plt\n",
    "\n",
    "ggplot_styles = {\n",
    "    'axes.edgecolor': 'white',\n",
    "    'axes.facecolor': 'EBEBEB',\n",
    "    'axes.grid': True,\n",
    "    'axes.axisbelow':True,\n",
    "    'axes.grid.which': 'both',\n",
    "    'axes.spines.left': False,\n",
    "    'axes.spines.right': False,\n",
    "    'axes.spines.top': True,\n",
    "    'axes.spines.bottom': True,\n",
    "    'grid.color': 'white',\n",
    "    'grid.linewidth': '1.2',\n",
    "    'xtick.color': '555555',\n",
    "    'xtick.major.bottom': True,\n",
    "    'xtick.minor.bottom': False,\n",
    "    'ytick.color': '555555',\n",
    "    'ytick.major.left': True,\n",
    "    'ytick.minor.left': False,\n",
    "}\n",
    "\n",
    "\n",
    "plt.rcParams.update(ggplot_styles)\n",
    "\n",
    "plt.scatter(X, y)\n",
    "plt.plot(X, y_fit_poly, color = '#f55742', linewidth=3)\n",
    "plt.xlabel('Year')\n",
    "plt.ylabel('Duration in ms');"
   ]
  },
  {
   "attachments": {},
   "cell_type": "markdown",
   "metadata": {},
   "source": [
    "Let's now predict average track duration for the next years to 2040 according to this shape, if this pattern continues"
   ]
  },
  {
   "cell_type": "code",
   "execution_count": 73,
   "metadata": {},
   "outputs": [
    {
     "data": {
      "text/html": [
       "<div>\n",
       "<style scoped>\n",
       "    .dataframe tbody tr th:only-of-type {\n",
       "        vertical-align: middle;\n",
       "    }\n",
       "\n",
       "    .dataframe tbody tr th {\n",
       "        vertical-align: top;\n",
       "    }\n",
       "\n",
       "    .dataframe thead th {\n",
       "        text-align: right;\n",
       "    }\n",
       "</style>\n",
       "<table border=\"1\" class=\"dataframe\">\n",
       "  <thead>\n",
       "    <tr style=\"text-align: right;\">\n",
       "      <th></th>\n",
       "      <th>Year</th>\n",
       "    </tr>\n",
       "  </thead>\n",
       "  <tbody>\n",
       "    <tr>\n",
       "      <th>0</th>\n",
       "      <td>2024</td>\n",
       "    </tr>\n",
       "    <tr>\n",
       "      <th>1</th>\n",
       "      <td>2025</td>\n",
       "    </tr>\n",
       "    <tr>\n",
       "      <th>2</th>\n",
       "      <td>2026</td>\n",
       "    </tr>\n",
       "    <tr>\n",
       "      <th>3</th>\n",
       "      <td>2027</td>\n",
       "    </tr>\n",
       "    <tr>\n",
       "      <th>4</th>\n",
       "      <td>2028</td>\n",
       "    </tr>\n",
       "    <tr>\n",
       "      <th>5</th>\n",
       "      <td>2029</td>\n",
       "    </tr>\n",
       "    <tr>\n",
       "      <th>6</th>\n",
       "      <td>2030</td>\n",
       "    </tr>\n",
       "    <tr>\n",
       "      <th>7</th>\n",
       "      <td>2031</td>\n",
       "    </tr>\n",
       "    <tr>\n",
       "      <th>8</th>\n",
       "      <td>2032</td>\n",
       "    </tr>\n",
       "    <tr>\n",
       "      <th>9</th>\n",
       "      <td>2033</td>\n",
       "    </tr>\n",
       "  </tbody>\n",
       "</table>\n",
       "</div>"
      ],
      "text/plain": [
       "   Year\n",
       "0  2024\n",
       "1  2025\n",
       "2  2026\n",
       "3  2027\n",
       "4  2028\n",
       "5  2029\n",
       "6  2030\n",
       "7  2031\n",
       "8  2032\n",
       "9  2033"
      ]
     },
     "execution_count": 73,
     "metadata": {},
     "output_type": "execute_result"
    }
   ],
   "source": [
    "years_list = [i for i in range(2024, 2041)]\n",
    "df_future = pd.DataFrame(years_list, columns =['Year'])\n",
    "df_future.head(10)"
   ]
  },
  {
   "cell_type": "code",
   "execution_count": 15,
   "metadata": {},
   "outputs": [],
   "source": [
    "X_poly_pred = poly_features.fit_transform(df_future)"
   ]
  },
  {
   "cell_type": "code",
   "execution_count": 16,
   "metadata": {},
   "outputs": [
    {
     "data": {
      "text/plain": [
       "array([188970.83468628, 186609.95075226, 184282.46695805, 181993.89537525,\n",
       "       179749.74806404, 177555.53709412, 175416.77453613, 173338.97245598,\n",
       "       171327.64292526, 169388.2980051 , 167526.44976711, 165747.61027718,\n",
       "       164057.29160595, 162461.00581932, 160964.26498508, 159572.58117199,\n",
       "       158291.46644688])"
      ]
     },
     "execution_count": 16,
     "metadata": {},
     "output_type": "execute_result"
    }
   ],
   "source": [
    "y_pred_poly = linear_reg.predict(X_poly_pred)\n",
    "y_pred_poly"
   ]
  },
  {
   "cell_type": "code",
   "execution_count": 17,
   "metadata": {},
   "outputs": [],
   "source": [
    "y_full_poly = np.append(y_fit_poly, y_pred_poly)"
   ]
  },
  {
   "cell_type": "code",
   "execution_count": 18,
   "metadata": {},
   "outputs": [],
   "source": [
    "# Simulate points with random\n",
    "from numpy.random import seed\n",
    "from numpy.random import randint\n",
    "\n",
    "seed(1)\n",
    "\n",
    "y_simulation_points = y_pred_poly + randint(-7000, 7000, len(y_pred_poly))"
   ]
  },
  {
   "cell_type": "code",
   "execution_count": 19,
   "metadata": {},
   "outputs": [],
   "source": [
    "y_pred_points = pd.DataFrame(y_simulation_points)"
   ]
  },
  {
   "cell_type": "code",
   "execution_count": 20,
   "metadata": {},
   "outputs": [],
   "source": [
    "y_pred_poly = pd.DataFrame(y_pred_poly)"
   ]
  },
  {
   "cell_type": "code",
   "execution_count": 21,
   "metadata": {},
   "outputs": [],
   "source": [
    "X_pred_plot = pd.concat([X, df_future])\n",
    "y_pred_points = pd.concat([y, y_pred_points])"
   ]
  },
  {
   "cell_type": "code",
   "execution_count": 22,
   "metadata": {},
   "outputs": [],
   "source": [
    "X_pred_plot = X_pred_plot.reset_index().drop(columns = ['index'])\n",
    "y_pred_points = y_pred_points.reset_index().drop(columns = ['index'])"
   ]
  },
  {
   "cell_type": "code",
   "execution_count": 23,
   "metadata": {},
   "outputs": [
    {
     "data": {
      "image/png": "[encoded data removed]",
      "text/plain": [
       "<Figure size 640x480 with 1 Axes>"
      ]
     },
     "metadata": {},
     "output_type": "display_data"
    }
   ],
   "source": [
    "import matplotlib.patches as patches\n",
    "\n",
    "fig, axs = plt.subplots(1,1)\n",
    "\n",
    "t1 = axs.text(0.88,0.92, ' Historical ', ha='center', color='red', transform=axs.transAxes)\n",
    "t2 = axs.text(0.88,0.84, ' Prediction', ha='center', color='green', transform=axs.transAxes)\n",
    "\n",
    "fig.canvas.draw()\n",
    "\n",
    "textobjs = [t1,t2]\n",
    "\n",
    "xmin = min([t.get_window_extent().xmin - 4 for t in textobjs])\n",
    "xmax = max([t.get_window_extent().xmax + 4 for t in textobjs])\n",
    "ymin = min([t.get_window_extent().ymin - 2 for t in textobjs])\n",
    "ymax = max([t.get_window_extent().ymax + 2 for t in textobjs])\n",
    "\n",
    "xmin, ymin = fig.transFigure.inverted().transform((xmin, ymin))\n",
    "xmax, ymax = fig.transFigure.inverted().transform((xmax, ymax))\n",
    "\n",
    "rect = patches.Rectangle((xmin,ymin),xmax-xmin,ymax-ymin, facecolor='grey', alpha=0.3, transform=fig.transFigure)\n",
    "\n",
    "axs.add_patch(rect)\n",
    "\n",
    "plt.scatter(X_pred_plot, y_pred_points, color = '#7FB366')\n",
    "plt.scatter(X, y, color = '#f55742')\n",
    "plt.plot(X_pred_plot, y_full_poly, color = '#664499', linewidth=1, linestyle='dashed')\n",
    "plt.xlabel('Year')\n",
    "plt.ylabel('Duration in ms');"
   ]
  },
  {
   "attachments": {},
   "cell_type": "markdown",
   "metadata": {},
   "source": [
    "### Linear correlation analysis since the 90's"
   ]
  },
  {
   "cell_type": "code",
   "execution_count": 24,
   "metadata": {},
   "outputs": [
    {
     "data": {
      "text/html": [
       "<div>\n",
       "<style scoped>\n",
       "    .dataframe tbody tr th:only-of-type {\n",
       "        vertical-align: middle;\n",
       "    }\n",
       "\n",
       "    .dataframe tbody tr th {\n",
       "        vertical-align: top;\n",
       "    }\n",
       "\n",
       "    .dataframe thead th {\n",
       "        text-align: right;\n",
       "    }\n",
       "</style>\n",
       "<table border=\"1\" class=\"dataframe\">\n",
       "  <thead>\n",
       "    <tr style=\"text-align: right;\">\n",
       "      <th></th>\n",
       "      <th>Year</th>\n",
       "      <th>Track_duration</th>\n",
       "    </tr>\n",
       "  </thead>\n",
       "  <tbody>\n",
       "    <tr>\n",
       "      <th>0</th>\n",
       "      <td>1990</td>\n",
       "      <td>244406.04</td>\n",
       "    </tr>\n",
       "    <tr>\n",
       "      <th>1</th>\n",
       "      <td>1991</td>\n",
       "      <td>257118.97</td>\n",
       "    </tr>\n",
       "    <tr>\n",
       "      <th>2</th>\n",
       "      <td>1992</td>\n",
       "      <td>249239.06</td>\n",
       "    </tr>\n",
       "    <tr>\n",
       "      <th>3</th>\n",
       "      <td>1993</td>\n",
       "      <td>249195.12</td>\n",
       "    </tr>\n",
       "    <tr>\n",
       "      <th>4</th>\n",
       "      <td>1994</td>\n",
       "      <td>251273.13</td>\n",
       "    </tr>\n",
       "  </tbody>\n",
       "</table>\n",
       "</div>"
      ],
      "text/plain": [
       "   Year  Track_duration\n",
       "0  1990       244406.04\n",
       "1  1991       257118.97\n",
       "2  1992       249239.06\n",
       "3  1993       249195.12\n",
       "4  1994       251273.13"
      ]
     },
     "execution_count": 24,
     "metadata": {},
     "output_type": "execute_result"
    }
   ],
   "source": [
    "df_linear = df_track_dur[df_track_dur[\"Year\"]>= 1990].reset_index()\n",
    "df_linear.drop(columns = 'index', inplace= True)\n",
    "df_linear.head()\n"
   ]
  },
  {
   "attachments": {},
   "cell_type": "markdown",
   "metadata": {},
   "source": [
    "Since the 90's, the average song duration has been decreasing linearly each year, with a very high indicator for linearity, as duration and time present near -1 correlation."
   ]
  },
  {
   "cell_type": "code",
   "execution_count": 25,
   "metadata": {},
   "outputs": [
    {
     "data": {
      "text/plain": [
       "-0.9491955319714159"
      ]
     },
     "execution_count": 25,
     "metadata": {},
     "output_type": "execute_result"
    }
   ],
   "source": [
    "df_linear.corr()['Track_duration']['Year']"
   ]
  },
  {
   "cell_type": "code",
   "execution_count": 26,
   "metadata": {},
   "outputs": [],
   "source": [
    "lr = LinearRegression()\n",
    "\n",
    "X = df_linear.drop('Track_duration', axis = 1).copy()\n",
    "y = df_linear['Track_duration'].copy()\n",
    "\n",
    "lr.fit(X, y);"
   ]
  },
  {
   "cell_type": "code",
   "execution_count": 27,
   "metadata": {},
   "outputs": [
    {
     "data": {
      "image/png": "[encoded data removed]",
      "text/plain": [
       "<Figure size 640x480 with 1 Axes>"
      ]
     },
     "metadata": {},
     "output_type": "display_data"
    }
   ],
   "source": [
    "lr_line = lr.predict(X)\n",
    "\n",
    "plt.scatter(X, y)\n",
    "plt.plot(X, lr_line, color = '#f55742', linewidth=3)\n",
    "plt.xlabel('Year')\n",
    "plt.ylabel('Duration in ms');"
   ]
  },
  {
   "cell_type": "code",
   "execution_count": 28,
   "metadata": {},
   "outputs": [
    {
     "data": {
      "text/plain": [
       "array([-1753.3727945])"
      ]
     },
     "execution_count": 28,
     "metadata": {},
     "output_type": "execute_result"
    }
   ],
   "source": [
    "lr.coef_"
   ]
  },
  {
   "attachments": {},
   "cell_type": "markdown",
   "metadata": {},
   "source": [
    "This shows since the 90's the duration of songs has been decreasing almost 2 seconds by year."
   ]
  },
  {
   "cell_type": "code",
   "execution_count": 29,
   "metadata": {},
   "outputs": [
    {
     "data": {
      "text/plain": [
       "array([195.0988961 , 193.3455233 , 191.59215051, 189.83877771,\n",
       "       188.08540492, 186.33203212, 184.57865933, 182.82528653,\n",
       "       181.07191374, 179.31854095, 177.56516815, 175.81179536,\n",
       "       174.05842256, 172.30504977, 170.55167697, 168.79830418,\n",
       "       167.04493138])"
      ]
     },
     "execution_count": 29,
     "metadata": {},
     "output_type": "execute_result"
    }
   ],
   "source": [
    "linear_prediction = lr.predict(df_future)\n",
    "linear_prediction = linear_prediction/1000\n",
    "linear_prediction"
   ]
  },
  {
   "cell_type": "code",
   "execution_count": 31,
   "metadata": {},
   "outputs": [],
   "source": [
    "linear_prediction = np.round(linear_prediction, 2)"
   ]
  },
  {
   "cell_type": "code",
   "execution_count": 74,
   "metadata": {},
   "outputs": [],
   "source": [
    "linear_pred = df_future"
   ]
  },
  {
   "cell_type": "code",
   "execution_count": 76,
   "metadata": {},
   "outputs": [],
   "source": [
    "linear_prediction = pd.DataFrame(linear_prediction, columns =['Duration_sec'])"
   ]
  },
  {
   "cell_type": "code",
   "execution_count": 77,
   "metadata": {},
   "outputs": [],
   "source": [
    "linear_pred['Duration_sec'] = linear_prediction"
   ]
  },
  {
   "cell_type": "code",
   "execution_count": 78,
   "metadata": {},
   "outputs": [],
   "source": [
    "linear_pred['Average_duration'] = linear_pred['Duration_sec']\\\n",
    "                               .astype('datetime64[s]')\\\n",
    "                               .dt.strftime(\"%M:%S\")\n",
    "\n",
    "linear_pred.drop(columns = ['Duration_sec'],inplace=True)"
   ]
  },
  {
   "cell_type": "code",
   "execution_count": 79,
   "metadata": {},
   "outputs": [
    {
     "data": {
      "text/html": [
       "<div>\n",
       "<style scoped>\n",
       "    .dataframe tbody tr th:only-of-type {\n",
       "        vertical-align: middle;\n",
       "    }\n",
       "\n",
       "    .dataframe tbody tr th {\n",
       "        vertical-align: top;\n",
       "    }\n",
       "\n",
       "    .dataframe thead th {\n",
       "        text-align: right;\n",
       "    }\n",
       "</style>\n",
       "<table border=\"1\" class=\"dataframe\">\n",
       "  <thead>\n",
       "    <tr style=\"text-align: right;\">\n",
       "      <th></th>\n",
       "      <th>Year</th>\n",
       "      <th>Average_duration</th>\n",
       "    </tr>\n",
       "  </thead>\n",
       "  <tbody>\n",
       "    <tr>\n",
       "      <th>0</th>\n",
       "      <td>2024</td>\n",
       "      <td>03:15</td>\n",
       "    </tr>\n",
       "    <tr>\n",
       "      <th>1</th>\n",
       "      <td>2025</td>\n",
       "      <td>03:13</td>\n",
       "    </tr>\n",
       "    <tr>\n",
       "      <th>2</th>\n",
       "      <td>2026</td>\n",
       "      <td>03:11</td>\n",
       "    </tr>\n",
       "    <tr>\n",
       "      <th>3</th>\n",
       "      <td>2027</td>\n",
       "      <td>03:09</td>\n",
       "    </tr>\n",
       "    <tr>\n",
       "      <th>4</th>\n",
       "      <td>2028</td>\n",
       "      <td>03:08</td>\n",
       "    </tr>\n",
       "    <tr>\n",
       "      <th>5</th>\n",
       "      <td>2029</td>\n",
       "      <td>03:06</td>\n",
       "    </tr>\n",
       "    <tr>\n",
       "      <th>6</th>\n",
       "      <td>2030</td>\n",
       "      <td>03:04</td>\n",
       "    </tr>\n",
       "    <tr>\n",
       "      <th>7</th>\n",
       "      <td>2031</td>\n",
       "      <td>03:02</td>\n",
       "    </tr>\n",
       "    <tr>\n",
       "      <th>8</th>\n",
       "      <td>2032</td>\n",
       "      <td>03:01</td>\n",
       "    </tr>\n",
       "    <tr>\n",
       "      <th>9</th>\n",
       "      <td>2033</td>\n",
       "      <td>02:59</td>\n",
       "    </tr>\n",
       "    <tr>\n",
       "      <th>10</th>\n",
       "      <td>2034</td>\n",
       "      <td>02:57</td>\n",
       "    </tr>\n",
       "    <tr>\n",
       "      <th>11</th>\n",
       "      <td>2035</td>\n",
       "      <td>02:55</td>\n",
       "    </tr>\n",
       "    <tr>\n",
       "      <th>12</th>\n",
       "      <td>2036</td>\n",
       "      <td>02:54</td>\n",
       "    </tr>\n",
       "    <tr>\n",
       "      <th>13</th>\n",
       "      <td>2037</td>\n",
       "      <td>02:52</td>\n",
       "    </tr>\n",
       "    <tr>\n",
       "      <th>14</th>\n",
       "      <td>2038</td>\n",
       "      <td>02:50</td>\n",
       "    </tr>\n",
       "    <tr>\n",
       "      <th>15</th>\n",
       "      <td>2039</td>\n",
       "      <td>02:48</td>\n",
       "    </tr>\n",
       "    <tr>\n",
       "      <th>16</th>\n",
       "      <td>2040</td>\n",
       "      <td>02:47</td>\n",
       "    </tr>\n",
       "  </tbody>\n",
       "</table>\n",
       "</div>"
      ],
      "text/plain": [
       "    Year Average_duration\n",
       "0   2024            03:15\n",
       "1   2025            03:13\n",
       "2   2026            03:11\n",
       "3   2027            03:09\n",
       "4   2028            03:08\n",
       "5   2029            03:06\n",
       "6   2030            03:04\n",
       "7   2031            03:02\n",
       "8   2032            03:01\n",
       "9   2033            02:59\n",
       "10  2034            02:57\n",
       "11  2035            02:55\n",
       "12  2036            02:54\n",
       "13  2037            02:52\n",
       "14  2038            02:50\n",
       "15  2039            02:48\n",
       "16  2040            02:47"
      ]
     },
     "execution_count": 79,
     "metadata": {},
     "output_type": "execute_result"
    }
   ],
   "source": [
    "linear_pred.head(20)"
   ]
  },
  {
   "cell_type": "code",
   "execution_count": 80,
   "metadata": {},
   "outputs": [],
   "source": [
    "spark.stop()"
   ]
  }
 ],
 "metadata": {
  "kernelspec": {
   "display_name": "Python 3",
   "language": "python",
   "name": "python3"
  },
  "language_info": {
   "codemirror_mode": {
    "name": "ipython",
    "version": 3
   },
   "file_extension": ".py",
   "mimetype": "text/x-python",
   "name": "python",
   "nbconvert_exporter": "python",
   "pygments_lexer": "ipython3",
   "version": "3.10.11"
  },
  "orig_nbformat": 4,
  "vscode": {
   "interpreter": {
    "hash": "48434fea92bcfa521232aa698a59dbef67c96a63793f88c53e51c3c6eaedc268"
   }
  }
 },
 "nbformat": 4,
 "nbformat_minor": 2
}
