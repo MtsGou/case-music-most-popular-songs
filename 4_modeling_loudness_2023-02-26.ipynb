{
 "cells": [
  {
   "attachments": {},
   "cell_type": "markdown",
   "metadata": {},
   "source": [
    "# Modeling Section #\n",
    "## 1. Average loudness prediction"
   ]
  },
  {
   "attachments": {},
   "cell_type": "markdown",
   "metadata": {},
   "source": [
    "In this section, I'm going to see what pattern appears for average song loudness over the years, and predict the scenario for time to come."
   ]
  },
  {
   "cell_type": "code",
   "execution_count": 1,
   "metadata": {},
   "outputs": [],
   "source": [
    "# Collecting packages\n",
    "from pyspark import SparkContext, SparkConf\n",
    "from pyspark.sql import SparkSession\n",
    "from pyspark.sql.types import *\n",
    "from pyspark.sql.functions import col, round\n",
    "import pandas as pd\n",
    "import numpy as np"
   ]
  },
  {
   "cell_type": "code",
   "execution_count": 2,
   "metadata": {},
   "outputs": [],
   "source": [
    "# Creating a context\n",
    "sc = SparkContext()"
   ]
  },
  {
   "cell_type": "code",
   "execution_count": 3,
   "metadata": {},
   "outputs": [],
   "source": [
    "# Starting Spark Session\n",
    "spark = (\n",
    "    SparkSession.builder                  \n",
    "      .appName(\"music_spark_session\")\n",
    "      .getOrCreate()\n",
    ")"
   ]
  },
  {
   "cell_type": "code",
   "execution_count": 4,
   "metadata": {},
   "outputs": [],
   "source": [
    "path_data = \"clean_data_music.csv\"\n",
    "\n",
    "schema_music = StructType([\n",
    "    StructField('Index', IntegerType()),\n",
    "    StructField('Track_duration', IntegerType()),\n",
    "    StructField('Popularity', IntegerType()),\n",
    "    StructField('Danceability', DoubleType()),\n",
    "    StructField('Energy', DoubleType()),\n",
    "    StructField('Key', IntegerType()),\n",
    "    StructField('Loudness', DoubleType()),\n",
    "    StructField('Acousticness', DoubleType()),\n",
    "    StructField('Instrumentalness', DoubleType()),\n",
    "    StructField('Liveness', DoubleType()),\n",
    "    StructField('Valence', DoubleType()),\n",
    "    StructField('Tempo', DoubleType()),\n",
    "    StructField('Year', IntegerType())\n",
    "])"
   ]
  },
  {
   "cell_type": "code",
   "execution_count": 5,
   "metadata": {},
   "outputs": [],
   "source": [
    "df = spark.read.csv(\n",
    "    path_data,\n",
    "    header=True,\n",
    "    sep=',',\n",
    "    schema=schema_music\n",
    ").drop('index')"
   ]
  },
  {
   "cell_type": "code",
   "execution_count": 6,
   "metadata": {},
   "outputs": [],
   "source": [
    "df_loudness = df.select('Year', 'Loudness')\\\n",
    "                 .groupBy('Year').avg('Loudness').orderBy('Year')\\\n",
    "                 .withColumnRenamed('avg(Loudness)', 'Loudness')\\\n",
    "                 .withColumn('Loudness', round(col('Loudness'), 2))"
   ]
  },
  {
   "cell_type": "code",
   "execution_count": 7,
   "metadata": {},
   "outputs": [],
   "source": [
    "df_loudness = df_loudness.toPandas()"
   ]
  },
  {
   "cell_type": "code",
   "execution_count": 8,
   "metadata": {},
   "outputs": [
    {
     "data": {
      "image/png": "[encoded data removed]",
      "text/plain": [
       "<Figure size 640x480 with 1 Axes>"
      ]
     },
     "metadata": {},
     "output_type": "display_data"
    }
   ],
   "source": [
    "import matplotlib.pyplot as plt\n",
    "\n",
    "ggplot_styles = {\n",
    "    'axes.edgecolor': 'white',\n",
    "    'axes.facecolor': 'EBEBEB',\n",
    "    'axes.grid': True,\n",
    "    'axes.axisbelow':True,\n",
    "    'axes.grid.which': 'both',\n",
    "    'axes.spines.left': False,\n",
    "    'axes.spines.right': False,\n",
    "    'axes.spines.top': True,\n",
    "    'axes.spines.bottom': True,\n",
    "    'grid.color': 'white',\n",
    "    'grid.linewidth': '1.2',\n",
    "    'xtick.color': '555555',\n",
    "    'xtick.major.bottom': True,\n",
    "    'xtick.minor.bottom': False,\n",
    "    'ytick.color': '555555',\n",
    "    'ytick.major.left': True,\n",
    "    'ytick.minor.left': False,\n",
    "}\n",
    "\n",
    "\n",
    "plt.rcParams.update(ggplot_styles)\n",
    "\n",
    "plt.scatter(df_loudness['Year'], df_loudness['Loudness'])\n",
    "plt.xlabel('Year')\n",
    "plt.ylabel('Loudness');"
   ]
  },
  {
   "attachments": {},
   "cell_type": "markdown",
   "metadata": {},
   "source": [
    "The range from 1990 to 2000 shows a very swift linear growth, but 2000 onwards the growth is softened, leading to a \"halt\" on approximately - 6.0 db in 2010 - 2020."
   ]
  },
  {
   "cell_type": "code",
   "execution_count": 9,
   "metadata": {},
   "outputs": [],
   "source": [
    "from sklearn.linear_model import LinearRegression\n",
    "\n",
    "def fit_model(data, feature: str):\n",
    "    X = data.drop(feature, axis = 1).copy()\n",
    "    y = data[feature].copy()\n",
    "    linear_reg = LinearRegression()\n",
    "    linear_reg.fit(X, y)\n",
    "    return X, y, linear_reg\n",
    "\n",
    "#X = df_loudness.drop('Loudness', axis = 1).copy()\n",
    "#y = df_loudness['Loudness'].copy()\n",
    "\n",
    "#linear_reg = LinearRegression()\n",
    "#linear_reg.fit(X, y);\n",
    "\n",
    "model_1 = fit_model(df_loudness, 'Loudness')\n",
    "X = model_1[0]\n",
    "y = model_1[1]\n",
    "linear_reg = model_1[2]"
   ]
  },
  {
   "attachments": {},
   "cell_type": "markdown",
   "metadata": {},
   "source": [
    "Try with 7th degree"
   ]
  },
  {
   "cell_type": "code",
   "execution_count": 10,
   "metadata": {},
   "outputs": [],
   "source": [
    "from sklearn.preprocessing import PolynomialFeatures\n",
    "\n",
    "poly_features = PolynomialFeatures(degree=7, include_bias=False)\n",
    "\n",
    "X_poly = poly_features.fit_transform(X)\n",
    "\n",
    "linear_reg.fit(X_poly, y)\n",
    "\n",
    "y_fit_poly = linear_reg.predict(X_poly)"
   ]
  },
  {
   "cell_type": "code",
   "execution_count": 11,
   "metadata": {},
   "outputs": [
    {
     "data": {
      "image/png": "[encoded data removed]",
      "text/plain": [
       "<Figure size 640x480 with 1 Axes>"
      ]
     },
     "metadata": {},
     "output_type": "display_data"
    }
   ],
   "source": [
    "plt.scatter(X, y)\n",
    "plt.plot(X, y_fit_poly, color = '#f55742', linewidth=3)\n",
    "plt.xlabel('Year')\n",
    "plt.ylabel('Loudness in db');"
   ]
  },
  {
   "attachments": {},
   "cell_type": "markdown",
   "metadata": {},
   "source": [
    "According to this model, after 2020 the average loudness of song should decrease, but this model doesn't ajust so well to the data. So it's going to be used data from 1990 onwards to get a more apropriate model."
   ]
  },
  {
   "cell_type": "code",
   "execution_count": 12,
   "metadata": {},
   "outputs": [
    {
     "data": {
      "text/html": [
       "<div>\n",
       "<style scoped>\n",
       "    .dataframe tbody tr th:only-of-type {\n",
       "        vertical-align: middle;\n",
       "    }\n",
       "\n",
       "    .dataframe tbody tr th {\n",
       "        vertical-align: top;\n",
       "    }\n",
       "\n",
       "    .dataframe thead th {\n",
       "        text-align: right;\n",
       "    }\n",
       "</style>\n",
       "<table border=\"1\" class=\"dataframe\">\n",
       "  <thead>\n",
       "    <tr style=\"text-align: right;\">\n",
       "      <th></th>\n",
       "      <th>Year</th>\n",
       "      <th>Loudness</th>\n",
       "    </tr>\n",
       "  </thead>\n",
       "  <tbody>\n",
       "    <tr>\n",
       "      <th>0</th>\n",
       "      <td>1990</td>\n",
       "      <td>-10.54</td>\n",
       "    </tr>\n",
       "    <tr>\n",
       "      <th>1</th>\n",
       "      <td>1991</td>\n",
       "      <td>-9.63</td>\n",
       "    </tr>\n",
       "    <tr>\n",
       "      <th>2</th>\n",
       "      <td>1992</td>\n",
       "      <td>-9.82</td>\n",
       "    </tr>\n",
       "    <tr>\n",
       "      <th>3</th>\n",
       "      <td>1993</td>\n",
       "      <td>-9.08</td>\n",
       "    </tr>\n",
       "    <tr>\n",
       "      <th>4</th>\n",
       "      <td>1994</td>\n",
       "      <td>-8.71</td>\n",
       "    </tr>\n",
       "  </tbody>\n",
       "</table>\n",
       "</div>"
      ],
      "text/plain": [
       "   Year  Loudness\n",
       "0  1990    -10.54\n",
       "1  1991     -9.63\n",
       "2  1992     -9.82\n",
       "3  1993     -9.08\n",
       "4  1994     -8.71"
      ]
     },
     "execution_count": 12,
     "metadata": {},
     "output_type": "execute_result"
    }
   ],
   "source": [
    "df_1990 = df_loudness[df_loudness[\"Year\"]>= 1990].reset_index()\n",
    "df_1990.drop(columns = 'index', inplace= True)\n",
    "df_1990.head()"
   ]
  },
  {
   "cell_type": "code",
   "execution_count": 13,
   "metadata": {},
   "outputs": [],
   "source": [
    "model_2 = fit_model(df_1990, 'Loudness')\n",
    "X = model_2[0]\n",
    "y = model_2[1]\n",
    "linear_reg = model_1[2]"
   ]
  },
  {
   "cell_type": "code",
   "execution_count": 14,
   "metadata": {},
   "outputs": [],
   "source": [
    "poly_features = PolynomialFeatures(degree=3, include_bias=False)\n",
    "\n",
    "X_poly = poly_features.fit_transform(X)"
   ]
  },
  {
   "cell_type": "code",
   "execution_count": 15,
   "metadata": {},
   "outputs": [],
   "source": [
    "linear_reg.fit(X_poly, y)\n",
    "\n",
    "y_fit_poly = linear_reg.predict(X_poly)"
   ]
  },
  {
   "cell_type": "code",
   "execution_count": 16,
   "metadata": {},
   "outputs": [
    {
     "data": {
      "image/png": "[encoded data removed]",
      "text/plain": [
       "<Figure size 640x480 with 1 Axes>"
      ]
     },
     "metadata": {},
     "output_type": "display_data"
    }
   ],
   "source": [
    "plt.scatter(X, y)\n",
    "plt.plot(X, y_fit_poly, color = '#f55742', linewidth=3)\n",
    "plt.xlabel('Year')\n",
    "plt.ylabel('Loudness in db');"
   ]
  },
  {
   "cell_type": "code",
   "execution_count": 17,
   "metadata": {},
   "outputs": [
    {
     "data": {
      "text/html": [
       "<div>\n",
       "<style scoped>\n",
       "    .dataframe tbody tr th:only-of-type {\n",
       "        vertical-align: middle;\n",
       "    }\n",
       "\n",
       "    .dataframe tbody tr th {\n",
       "        vertical-align: top;\n",
       "    }\n",
       "\n",
       "    .dataframe thead th {\n",
       "        text-align: right;\n",
       "    }\n",
       "</style>\n",
       "<table border=\"1\" class=\"dataframe\">\n",
       "  <thead>\n",
       "    <tr style=\"text-align: right;\">\n",
       "      <th></th>\n",
       "      <th>Year</th>\n",
       "    </tr>\n",
       "  </thead>\n",
       "  <tbody>\n",
       "    <tr>\n",
       "      <th>0</th>\n",
       "      <td>2024</td>\n",
       "    </tr>\n",
       "    <tr>\n",
       "      <th>1</th>\n",
       "      <td>2025</td>\n",
       "    </tr>\n",
       "    <tr>\n",
       "      <th>2</th>\n",
       "      <td>2026</td>\n",
       "    </tr>\n",
       "    <tr>\n",
       "      <th>3</th>\n",
       "      <td>2027</td>\n",
       "    </tr>\n",
       "    <tr>\n",
       "      <th>4</th>\n",
       "      <td>2028</td>\n",
       "    </tr>\n",
       "    <tr>\n",
       "      <th>5</th>\n",
       "      <td>2029</td>\n",
       "    </tr>\n",
       "    <tr>\n",
       "      <th>6</th>\n",
       "      <td>2030</td>\n",
       "    </tr>\n",
       "  </tbody>\n",
       "</table>\n",
       "</div>"
      ],
      "text/plain": [
       "   Year\n",
       "0  2024\n",
       "1  2025\n",
       "2  2026\n",
       "3  2027\n",
       "4  2028\n",
       "5  2029\n",
       "6  2030"
      ]
     },
     "execution_count": 17,
     "metadata": {},
     "output_type": "execute_result"
    }
   ],
   "source": [
    "years_list = [i for i in range(2024, 2031)]\n",
    "df_future = pd.DataFrame(years_list, columns =['Year'])\n",
    "df_future.head(10)"
   ]
  },
  {
   "cell_type": "code",
   "execution_count": 18,
   "metadata": {},
   "outputs": [],
   "source": [
    "df_2000 = df_loudness[df_loudness[\"Year\"]>= 2000].reset_index()\n",
    "df_2000.drop(columns = 'index', inplace= True)"
   ]
  },
  {
   "cell_type": "code",
   "execution_count": 19,
   "metadata": {},
   "outputs": [],
   "source": [
    "model_3 = fit_model(df_2000, 'Loudness')\n",
    "X = model_3[0]\n",
    "y = model_3[1]\n",
    "linear_reg = model_3[2]"
   ]
  },
  {
   "cell_type": "code",
   "execution_count": 20,
   "metadata": {},
   "outputs": [],
   "source": [
    "y_pred_poly = linear_reg.predict(df_future)"
   ]
  },
  {
   "cell_type": "code",
   "execution_count": 21,
   "metadata": {},
   "outputs": [],
   "source": [
    "# Simulate points with random\n",
    "from numpy.random import seed\n",
    "from numpy.random import randint\n",
    "\n",
    "seed(0)\n",
    "\n",
    "y_simulation_points = y_pred_poly + 1/10*randint(-5, 5, len(y_pred_poly))"
   ]
  },
  {
   "cell_type": "code",
   "execution_count": 22,
   "metadata": {},
   "outputs": [],
   "source": [
    "y_pred_points = pd.DataFrame(y_simulation_points)"
   ]
  },
  {
   "cell_type": "code",
   "execution_count": 23,
   "metadata": {},
   "outputs": [
    {
     "data": {
      "text/html": [
       "<div>\n",
       "<style scoped>\n",
       "    .dataframe tbody tr th:only-of-type {\n",
       "        vertical-align: middle;\n",
       "    }\n",
       "\n",
       "    .dataframe tbody tr th {\n",
       "        vertical-align: top;\n",
       "    }\n",
       "\n",
       "    .dataframe thead th {\n",
       "        text-align: right;\n",
       "    }\n",
       "</style>\n",
       "<table border=\"1\" class=\"dataframe\">\n",
       "  <thead>\n",
       "    <tr style=\"text-align: right;\">\n",
       "      <th></th>\n",
       "      <th>Loudness_pred</th>\n",
       "    </tr>\n",
       "  </thead>\n",
       "  <tbody>\n",
       "    <tr>\n",
       "      <th>0</th>\n",
       "      <td>-5.773949</td>\n",
       "    </tr>\n",
       "    <tr>\n",
       "      <th>1</th>\n",
       "      <td>-6.239532</td>\n",
       "    </tr>\n",
       "    <tr>\n",
       "      <th>2</th>\n",
       "      <td>-5.905114</td>\n",
       "    </tr>\n",
       "    <tr>\n",
       "      <th>3</th>\n",
       "      <td>-5.870697</td>\n",
       "    </tr>\n",
       "    <tr>\n",
       "      <th>4</th>\n",
       "      <td>-5.436280</td>\n",
       "    </tr>\n",
       "    <tr>\n",
       "      <th>5</th>\n",
       "      <td>-5.201862</td>\n",
       "    </tr>\n",
       "    <tr>\n",
       "      <th>6</th>\n",
       "      <td>-5.767445</td>\n",
       "    </tr>\n",
       "  </tbody>\n",
       "</table>\n",
       "</div>"
      ],
      "text/plain": [
       "   Loudness_pred\n",
       "0      -5.773949\n",
       "1      -6.239532\n",
       "2      -5.905114\n",
       "3      -5.870697\n",
       "4      -5.436280\n",
       "5      -5.201862\n",
       "6      -5.767445"
      ]
     },
     "execution_count": 23,
     "metadata": {},
     "output_type": "execute_result"
    }
   ],
   "source": [
    "y_pred_points.rename(columns={0: \"Loudness_pred\"}, inplace= True)\n",
    "y_pred_points.head(10)"
   ]
  },
  {
   "cell_type": "code",
   "execution_count": 24,
   "metadata": {},
   "outputs": [],
   "source": [
    "y_pred_points['Year'] = df_future"
   ]
  },
  {
   "cell_type": "code",
   "execution_count": 25,
   "metadata": {},
   "outputs": [],
   "source": [
    "df_predictions = df_1990.merge(y_pred_points, how = 'outer', on = ['Year'])"
   ]
  },
  {
   "cell_type": "code",
   "execution_count": 26,
   "metadata": {},
   "outputs": [],
   "source": [
    "poly_pred_curve = pd.concat([df_1990, y_pred_points.rename(columns={\"Loudness_pred\": \"Loudness\"})])\n",
    "X = df_1990.drop('Loudness', axis = 1).copy()\n",
    "X = pd.concat([X, df_future])\n",
    "y = poly_pred_curve['Loudness'].copy()\n"
   ]
  },
  {
   "cell_type": "code",
   "execution_count": 27,
   "metadata": {},
   "outputs": [],
   "source": [
    "from scipy.optimize import curve_fit\n",
    "\n",
    "X = X.reset_index()\n",
    "y = y.reset_index()\n",
    "\n",
    "xdata = X['Year'].to_numpy()\n",
    "ydata = y['Loudness'].to_numpy()"
   ]
  },
  {
   "cell_type": "code",
   "execution_count": 28,
   "metadata": {},
   "outputs": [
    {
     "name": "stderr",
     "output_type": "stream",
     "text": [
      "C:\\Users\\Matheus\\AppData\\Local\\Temp\\ipykernel_8864\\1402104984.py:2: RuntimeWarning: invalid value encountered in log\n",
      "  return a * np.log(b * (x-c)) + d\n"
     ]
    }
   ],
   "source": [
    "def log_model(x, a, b, c, d):\n",
    "    return a * np.log(b * (x-c)) + d\n",
    "\n",
    "init_vals = [10, 20, 1, 5]\n",
    "popt, pcov = curve_fit(log_model, xdata, ydata, p0=init_vals)\n",
    "y_pred = log_model(200, *popt)"
   ]
  },
  {
   "cell_type": "code",
   "execution_count": 39,
   "metadata": {},
   "outputs": [
    {
     "name": "stderr",
     "output_type": "stream",
     "text": [
      "C:\\Users\\Matheus\\AppData\\Local\\Temp\\ipykernel_8864\\961137958.py:29: UserWarning: Legend does not support handles for list instances.\n",
      "A proxy artist may be used instead.\n",
      "See: https://matplotlib.org/stable/tutorials/intermediate/legend_guide.html#controlling-the-legend-entries\n",
      "  plt.legend((historical, prediction),\n"
     ]
    },
    {
     "data": {
      "image/png": "[encoded data removed]",
      "text/plain": [
       "<Figure size 640x480 with 1 Axes>"
      ]
     },
     "metadata": {},
     "output_type": "display_data"
    }
   ],
   "source": [
    "import matplotlib.patches as patches\n",
    "\n",
    "fig, axs = plt.subplots(1,1)\n",
    "\n",
    "t1 = axs.text(0.10,0.92, ' Historical ', ha='center', color='red', transform=axs.transAxes)\n",
    "t2 = axs.text(0.10,0.88, ' Prediction', ha='center', color='green', transform=axs.transAxes)\n",
    "\n",
    "fig.canvas.draw()\n",
    "\n",
    "textobjs = [t1,t2]\n",
    "\n",
    "xmin = min([t.get_window_extent().xmin - 4 for t in textobjs])\n",
    "xmax = max([t.get_window_extent().xmax + 4 for t in textobjs])\n",
    "ymin = min([t.get_window_extent().ymin - 2 for t in textobjs])\n",
    "ymax = max([t.get_window_extent().ymax + 2 for t in textobjs])\n",
    "\n",
    "xmin, ymin = fig.transFigure.inverted().transform((xmin, ymin))\n",
    "xmax, ymax = fig.transFigure.inverted().transform((xmax, ymax))\n",
    "\n",
    "rect = patches.Rectangle((xmin,ymin),xmax-xmin,ymax-ymin, facecolor='grey', alpha=0.3, transform=fig.transFigure)\n",
    "\n",
    "axs.add_patch(rect)\n",
    "\n",
    "plt.plot(xdata, log_model(xdata, *popt), '--', color = '#7d8a83')\n",
    "historical = plt.plot(df_predictions['Year'], df_predictions['Loudness'], color = '#de4e31', linewidth = 3)\n",
    "prediction = plt.plot(df_predictions['Year'], df_predictions['Loudness_pred'], color = '#39c47a', linewidth = 3)\n",
    "plt.xlabel('Year')\n",
    "plt.ylabel('Loudness in db')\n",
    "plt.legend((historical, prediction),\n",
    "           ('Historical', 'Prediction'),\n",
    "           loc='lower right',\n",
    "           ncol=1,\n",
    "           fontsize=10)\n",
    "plt.show()"
   ]
  },
  {
   "cell_type": "code",
   "execution_count": 30,
   "metadata": {},
   "outputs": [],
   "source": [
    "spark.stop()"
   ]
  }
 ],
 "metadata": {
  "kernelspec": {
   "display_name": "Python 3",
   "language": "python",
   "name": "python3"
  },
  "language_info": {
   "codemirror_mode": {
    "name": "ipython",
    "version": 3
   },
   "file_extension": ".py",
   "mimetype": "text/x-python",
   "name": "python",
   "nbconvert_exporter": "python",
   "pygments_lexer": "ipython3",
   "version": "3.10.11"
  },
  "orig_nbformat": 4,
  "vscode": {
   "interpreter": {
    "hash": "48434fea92bcfa521232aa698a59dbef67c96a63793f88c53e51c3c6eaedc268"
   }
  }
 },
 "nbformat": 4,
 "nbformat_minor": 2
}
