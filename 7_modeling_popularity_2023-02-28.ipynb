{
 "cells": [
  {
   "attachments": {},
   "cell_type": "markdown",
   "metadata": {},
   "source": [
    "# Modeling Section #\n",
    "## 5. Song popularity prediction [Experimental]"
   ]
  },
  {
   "attachments": {},
   "cell_type": "markdown",
   "metadata": {},
   "source": [
    "Find a model that best fits to the dataset to predict a song's popularity."
   ]
  },
  {
   "cell_type": "code",
   "execution_count": 1,
   "metadata": {},
   "outputs": [],
   "source": [
    "# Collecting packages\n",
    "from pyspark import SparkContext, SparkConf\n",
    "from pyspark.sql import SparkSession\n",
    "from pyspark.sql.types import *\n",
    "from pyspark.sql.functions import col, round\n",
    "import pandas as pd\n",
    "import numpy as np\n",
    "import seaborn as sns"
   ]
  },
  {
   "cell_type": "code",
   "execution_count": 2,
   "metadata": {},
   "outputs": [],
   "source": [
    "# Configure SparkUI\n",
    "conf = SparkConf().set('spark.ui.port', '4050')\n",
    "\n",
    "# Create a URL through you can access the Spark UI\n",
    "get_ipython().system_raw('./ngrok http 4050 &')\n",
    "\n",
    "# Access the URL\n",
    "!curl -s http://localhost:4040/api/tunnels \n",
    "\n",
    "# Creating a context. Access SparkUI now in localhost:4050\n",
    "sc = SparkContext(conf=conf)\n",
    "\n",
    "# Spark Session\n",
    "spark = (\n",
    "    SparkSession.builder                  \n",
    "      .appName(\"model_popularity\")\n",
    "      .config('spark.ui.port', '4050')\n",
    "      .getOrCreate()\n",
    ")"
   ]
  },
  {
   "attachments": {},
   "cell_type": "markdown",
   "metadata": {},
   "source": [
    "Collecting data"
   ]
  },
  {
   "cell_type": "code",
   "execution_count": 3,
   "metadata": {},
   "outputs": [],
   "source": [
    "path_data = \"clean_data_music.csv\"\n",
    "\n",
    "schema_music = StructType([\n",
    "    StructField('Index', IntegerType()),\n",
    "    StructField('Track_duration', IntegerType()),\n",
    "    StructField('Popularity', IntegerType()),\n",
    "    StructField('Danceability', DoubleType()),\n",
    "    StructField('Energy', DoubleType()),\n",
    "    StructField('Key', IntegerType()),\n",
    "    StructField('Loudness', DoubleType()),\n",
    "    StructField('Acousticness', DoubleType()),\n",
    "    StructField('Instrumentalness', DoubleType()),\n",
    "    StructField('Liveness', DoubleType()),\n",
    "    StructField('Valence', DoubleType()),\n",
    "    StructField('Tempo', DoubleType()),\n",
    "    StructField('Year', IntegerType())\n",
    "])"
   ]
  },
  {
   "cell_type": "code",
   "execution_count": 4,
   "metadata": {},
   "outputs": [],
   "source": [
    "df = spark.read.csv(\n",
    "    path_data,\n",
    "    header=True,\n",
    "    sep=',',\n",
    "    schema=schema_music\n",
    ").drop('index')"
   ]
  },
  {
   "cell_type": "code",
   "execution_count": 5,
   "metadata": {},
   "outputs": [
    {
     "name": "stdout",
     "output_type": "stream",
     "text": [
      "root\n",
      " |-- Track_duration: integer (nullable = true)\n",
      " |-- Popularity: integer (nullable = true)\n",
      " |-- Danceability: double (nullable = true)\n",
      " |-- Energy: double (nullable = true)\n",
      " |-- Key: integer (nullable = true)\n",
      " |-- Loudness: double (nullable = true)\n",
      " |-- Acousticness: double (nullable = true)\n",
      " |-- Instrumentalness: double (nullable = true)\n",
      " |-- Liveness: double (nullable = true)\n",
      " |-- Valence: double (nullable = true)\n",
      " |-- Tempo: double (nullable = true)\n",
      " |-- Year: integer (nullable = true)\n",
      "\n"
     ]
    }
   ],
   "source": [
    "df.printSchema()"
   ]
  },
  {
   "attachments": {},
   "cell_type": "markdown",
   "metadata": {},
   "source": [
    "See values near zero:"
   ]
  },
  {
   "cell_type": "code",
   "execution_count": 6,
   "metadata": {},
   "outputs": [
    {
     "name": "stdout",
     "output_type": "stream",
     "text": [
      "+--------------------+\n",
      "|Popularity_near_zero|\n",
      "+--------------------+\n",
      "|                2926|\n",
      "+--------------------+\n",
      "\n"
     ]
    }
   ],
   "source": [
    "df.createOrReplaceTempView('base_music')\n",
    "\n",
    "spark.sql(\n",
    "    \"\"\"\n",
    "      select count(popularity) as Popularity_near_zero\n",
    "           from base_music\n",
    "           where popularity <= 5\n",
    "    \"\"\"\n",
    ").show()"
   ]
  },
  {
   "attachments": {},
   "cell_type": "markdown",
   "metadata": {},
   "source": [
    "### First Model: Random Forest regression"
   ]
  },
  {
   "cell_type": "code",
   "execution_count": 7,
   "metadata": {},
   "outputs": [
    {
     "name": "stdout",
     "output_type": "stream",
     "text": [
      "train = 7570  test = 2418\n"
     ]
    }
   ],
   "source": [
    "from pyspark.ml.regression import RandomForestRegressor\n",
    "from pyspark.ml.feature import VectorAssembler\n",
    "from pyspark.ml import Pipeline\n",
    "\n",
    "train, test = df.randomSplit([0.75, 0.25], seed = 42)\n",
    "print(\"train =\", train.count(), \" test =\", test.count())\n",
    "\n",
    "input_cols = ['Track_duration', \n",
    "              'Danceability', \n",
    "              'Energy', \n",
    "              'Key', \n",
    "              'Loudness', \n",
    "              'Acousticness', \n",
    "              'Instrumentalness', \n",
    "              'Liveness', \n",
    "              'Valence', \n",
    "              'Tempo',\n",
    "              'Year']\n",
    "\n",
    "rf = RandomForestRegressor().setParams(\n",
    "    numTrees=3,\n",
    "    maxDepth=5,\n",
    "    labelCol = \"Popularity\",\n",
    "    predictionCol = \"prediction\"\n",
    ")\n",
    "\n",
    "assembler = VectorAssembler(\n",
    "  inputCols = [x for x in train.columns if x in input_cols],\n",
    "  outputCol = \"features\"\n",
    ")"
   ]
  },
  {
   "cell_type": "code",
   "execution_count": 8,
   "metadata": {},
   "outputs": [],
   "source": [
    "# Train a Random Forest Regression model on the input data and return an\n",
    "# object to make predictions on new data\n",
    "model = Pipeline(stages = [assembler, rf]).fit(train)"
   ]
  },
  {
   "cell_type": "code",
   "execution_count": 9,
   "metadata": {},
   "outputs": [],
   "source": [
    "predicted = model.transform(test)"
   ]
  },
  {
   "cell_type": "code",
   "execution_count": 10,
   "metadata": {},
   "outputs": [
    {
     "name": "stdout",
     "output_type": "stream",
     "text": [
      "+--------------+----------+------------+------+---+--------+------------+----------------+--------+-------+-------+----+--------------------+------------------+\n",
      "|Track_duration|Popularity|Danceability|Energy|Key|Loudness|Acousticness|Instrumentalness|Liveness|Valence|  Tempo|Year|            features|        prediction|\n",
      "+--------------+----------+------------+------+---+--------+------------+----------------+--------+-------+-------+----+--------------------+------------------+\n",
      "|         97506|        30|       0.521| 0.765|  8|  -6.985|       0.838|         1.61E-6|   0.333|  0.824|123.591|2008|[97506.0,0.521,0....|24.131273251609645|\n",
      "|        105200|         0|       0.485| 0.935|  7|   -3.62|     0.00183|           0.873|  0.0915|   0.97|158.427|2005|[105200.0,0.485,0...| 25.69274523641496|\n",
      "|        106293|        10|       0.716| 0.395| 11|  -8.989|         0.4|         2.95E-6|  0.0921|  0.585|130.536|1966|[106293.0,0.716,0...| 37.56083671652096|\n",
      "|        107386|        26|        0.57| 0.867|  0|  -6.556|      3.6E-5|          0.0174|     0.2|  0.818|100.318|2005|[107386.0,0.57,0....| 31.43640465670482|\n",
      "|        111293|        55|       0.383| 0.739|  9|  -6.841|      0.0034|           0.218|     0.1|  0.306| 92.879|1996|[111293.0,0.383,0...| 33.27467644521139|\n",
      "|        114040|        18|       0.853| 0.414|  0|  -11.52|       0.825|         1.63E-4|   0.172|  0.969|116.448|2009|[114040.0,0.853,0...|25.095494706325553|\n",
      "|        114986|        55|       0.617| 0.711|  9|  -6.433|        0.36|         1.59E-6|  0.0841|  0.963|142.266|1997|[114986.0,0.617,0...| 40.34152378035141|\n",
      "|        116750|        75|       0.722| 0.893|  0|  -3.255|      0.0441|         9.37E-4|  0.0673|  0.439|119.932|2021|[116750.0,0.722,0...| 30.85213073311665|\n",
      "|        117600|        35|        0.59| 0.568|  5| -11.295|       0.832|             0.0|   0.272|  0.777|144.572|1987|[117600.0,0.59,0....| 36.77456608360911|\n",
      "|        117953|         0|       0.707| 0.616|  0|  -8.512|       0.432|             0.0|   0.104|   0.97|111.476|1977|[117953.0,0.707,0...| 42.47855011473943|\n",
      "|        118266|        59|       0.613| 0.618|  8| -11.831|       0.568|             0.0|   0.727|   0.94|172.741|2012|[118266.0,0.613,0...|24.374365731774322|\n",
      "|        118773|         2|       0.521| 0.712|  4|   -4.44|       0.311|             0.0|   0.384|  0.812|118.029|2017|[118773.0,0.521,0...| 20.06586774920611|\n",
      "|        120084|         6|       0.792| 0.737|  7| -12.668|       0.397|         7.42E-5|  0.0628|  0.952|133.931|2014|[120084.0,0.792,0...|23.071201024212783|\n",
      "|        120466|        10|        0.42| 0.256|  2| -12.063|       0.845|           0.944|   0.099|  0.531| 91.731|2017|[120466.0,0.42,0....|17.327541603922928|\n",
      "|        120880|         0|       0.778| 0.606|  1|  -6.849|      0.0932|             0.0|    0.05|  0.601|107.987|2021|[120880.0,0.778,0...|50.440071971469855|\n",
      "|        121106|         4|        0.57|  0.79|  6|  -6.365|       0.513|             0.0|   0.168|  0.906|156.698|2011|[121106.0,0.57,0....|30.936661066961232|\n",
      "|        121213|        34|       0.606| 0.344|  1|  -9.944|       0.782|             0.0|   0.132|  0.517| 80.829|2007|[121213.0,0.606,0...| 22.16482965680059|\n",
      "|        121312|        20|       0.741| 0.595| 11|   -7.24|       0.794|         1.39E-6|   0.221|  0.931|124.675|2014|[121312.0,0.741,0...| 26.67779083322185|\n",
      "|        121880|        71|       0.658| 0.709|  8|  -6.736|     0.00188|         0.00447|  0.0657|  0.855|129.701|2000|[121880.0,0.658,0...| 42.08634775906228|\n",
      "|        122760|        55|       0.755| 0.736|  0|  -9.594|       0.657|             0.0|   0.226|  0.953|106.777|1963|[122760.0,0.755,0...| 38.06379685283988|\n",
      "+--------------+----------+------------+------+---+--------+------------+----------------+--------+-------+-------+----+--------------------+------------------+\n",
      "only showing top 20 rows\n",
      "\n"
     ]
    }
   ],
   "source": [
    "predicted.show()"
   ]
  },
  {
   "attachments": {},
   "cell_type": "markdown",
   "metadata": {},
   "source": [
    "Evaluate the model with MSE, RMSE, MAE and R² score."
   ]
  },
  {
   "cell_type": "code",
   "execution_count": 25,
   "metadata": {},
   "outputs": [
    {
     "name": "stdout",
     "output_type": "stream",
     "text": [
      "R2 score: 0.042802890259774684\n",
      "MAE: 25.755352732535457\n",
      "MSE: 844.4058039553278\n",
      "RMSE: 29.058661427452705\n"
     ]
    }
   ],
   "source": [
    "from pyspark.ml.evaluation import RegressionEvaluator\n",
    "\n",
    "def evaluate_model(df):\n",
    "    # Evaluate model\n",
    "    evaluator = RegressionEvaluator(predictionCol=\"prediction\", labelCol= \"Popularity\")\n",
    "\n",
    "    r2 = evaluator.evaluate(df, {evaluator.metricName: \"r2\"})\n",
    "    mae = evaluator.evaluate(df, {evaluator.metricName: \"mae\"})\n",
    "    mse = evaluator.evaluate(df, {evaluator.metricName: \"mse\"})\n",
    "    rmse = np.sqrt(mse)\n",
    "\n",
    "    print(f\"R2 score: {r2}\\nMAE: {mae}\\nMSE: {mse}\\nRMSE: {rmse}\")\n",
    "\n",
    "evaluate_model(predicted)"
   ]
  },
  {
   "attachments": {},
   "cell_type": "markdown",
   "metadata": {},
   "source": [
    "Tunning the model"
   ]
  },
  {
   "cell_type": "code",
   "execution_count": 14,
   "metadata": {},
   "outputs": [
    {
     "name": "stdout",
     "output_type": "stream",
     "text": [
      "train = 7570  test = 2418\n"
     ]
    }
   ],
   "source": [
    "from pyspark.ml.tuning import CrossValidator, ParamGridBuilder\n",
    "\n",
    "data = assembler.transform(df)\n",
    "\n",
    "train, test = data.randomSplit([0.75, 0.25], seed = 42)\n",
    "print(\"train =\", train.count(), \" test =\", test.count())\n",
    "\n",
    "rf = RandomForestRegressor(\n",
    "    featuresCol=\"features\",\n",
    "    labelCol = \"Popularity\",\n",
    "    predictionCol = \"prediction\"\n",
    ")\n"
   ]
  },
  {
   "cell_type": "code",
   "execution_count": 15,
   "metadata": {},
   "outputs": [],
   "source": [
    "# Define the hyperparameter grid\n",
    "param_grid = ParamGridBuilder() \\\n",
    "    .addGrid(rf.numTrees, [2, 3, 4, 5, 7, 10, 15]) \\\n",
    "    .addGrid(rf.maxDepth, [1, 5, 8, 10, 15]) \\\n",
    "    .addGrid(rf.maxBins, [23,27,30, 32] ) \\\n",
    "    .build()\n",
    "\n",
    "# Cross-validator for regression\n",
    "evaluator = RegressionEvaluator(predictionCol=\"prediction\", labelCol= \"Popularity\", metricName=\"rmse\")\n",
    "\n",
    "crossval = CrossValidator(estimator=rf,\n",
    "                          estimatorParamMaps=param_grid,\n",
    "                          evaluator=evaluator,\n",
    "                          numFolds=5)\n",
    "\n",
    "\n",
    "\n",
    "# Run cross-validation, and choose the best set of parameters.\n",
    "cvModel = crossval.fit(train)"
   ]
  },
  {
   "cell_type": "code",
   "execution_count": 16,
   "metadata": {},
   "outputs": [],
   "source": [
    "best_model_rf = cvModel.bestModel"
   ]
  },
  {
   "cell_type": "code",
   "execution_count": 17,
   "metadata": {},
   "outputs": [],
   "source": [
    "# Analyze parameters and bias\n",
    "optimal_paratemers = list(range(3))\n",
    "optimal_paratemers[0] = best_model_rf.getNumTrees\n",
    "optimal_paratemers[1] = best_model_rf.getMaxDepth()\n",
    "optimal_paratemers[2] = best_model_rf.getMaxBins()"
   ]
  },
  {
   "cell_type": "code",
   "execution_count": 18,
   "metadata": {},
   "outputs": [
    {
     "data": {
      "text/plain": [
       "SparseVector(11, {0: 0.1253, 1: 0.0469, 2: 0.0422, 3: 0.0225, 4: 0.0759, 5: 0.0742, 6: 0.0602, 7: 0.0452, 8: 0.0468, 9: 0.0423, 10: 0.4186})"
      ]
     },
     "execution_count": 18,
     "metadata": {},
     "output_type": "execute_result"
    }
   ],
   "source": [
    "best_model_rf.featureImportances"
   ]
  },
  {
   "attachments": {},
   "cell_type": "markdown",
   "metadata": {},
   "source": [
    "So the most important features for this model to predict popularity are 'Year', 'Track_duration', 'Loudness' and 'Danceability', in order of most to less relevant."
   ]
  },
  {
   "cell_type": "code",
   "execution_count": 19,
   "metadata": {},
   "outputs": [
    {
     "data": {
      "text/plain": [
       "[15, 5, 32]"
      ]
     },
     "execution_count": 19,
     "metadata": {},
     "output_type": "execute_result"
    }
   ],
   "source": [
    "optimal_paratemers"
   ]
  },
  {
   "cell_type": "code",
   "execution_count": 20,
   "metadata": {},
   "outputs": [],
   "source": [
    "prediction = best_model_rf.transform(test)"
   ]
  },
  {
   "cell_type": "code",
   "execution_count": 21,
   "metadata": {},
   "outputs": [
    {
     "name": "stdout",
     "output_type": "stream",
     "text": [
      "+--------------+----------+------------+------+---+--------+------------+----------------+--------+-------+-------+----+--------------------+------------------+\n",
      "|Track_duration|Popularity|Danceability|Energy|Key|Loudness|Acousticness|Instrumentalness|Liveness|Valence|  Tempo|Year|            features|        prediction|\n",
      "+--------------+----------+------------+------+---+--------+------------+----------------+--------+-------+-------+----+--------------------+------------------+\n",
      "|         97506|        30|       0.521| 0.765|  8|  -6.985|       0.838|         1.61E-6|   0.333|  0.824|123.591|2008|[97506.0,0.521,0....|25.641811411761676|\n",
      "|        105200|         0|       0.485| 0.935|  7|   -3.62|     0.00183|           0.873|  0.0915|   0.97|158.427|2005|[105200.0,0.485,0...|25.664920151223622|\n",
      "|        106293|        10|       0.716| 0.395| 11|  -8.989|         0.4|         2.95E-6|  0.0921|  0.585|130.536|1966|[106293.0,0.716,0...|  38.5456884360822|\n",
      "|        107386|        26|        0.57| 0.867|  0|  -6.556|      3.6E-5|          0.0174|     0.2|  0.818|100.318|2005|[107386.0,0.57,0....| 30.60826255816694|\n",
      "|        111293|        55|       0.383| 0.739|  9|  -6.841|      0.0034|           0.218|     0.1|  0.306| 92.879|1996|[111293.0,0.383,0...| 23.75370600635301|\n",
      "|        114040|        18|       0.853| 0.414|  0|  -11.52|       0.825|         1.63E-4|   0.172|  0.969|116.448|2009|[114040.0,0.853,0...|24.776110649892004|\n",
      "|        114986|        55|       0.617| 0.711|  9|  -6.433|        0.36|         1.59E-6|  0.0841|  0.963|142.266|1997|[114986.0,0.617,0...| 33.84612402533786|\n",
      "|        116750|        75|       0.722| 0.893|  0|  -3.255|      0.0441|         9.37E-4|  0.0673|  0.439|119.932|2021|[116750.0,0.722,0...| 46.72251360113501|\n",
      "|        117600|        35|        0.59| 0.568|  5| -11.295|       0.832|             0.0|   0.272|  0.777|144.572|1987|[117600.0,0.59,0....|28.559416218967606|\n",
      "|        117953|         0|       0.707| 0.616|  0|  -8.512|       0.432|             0.0|   0.104|   0.97|111.476|1977|[117953.0,0.707,0...|37.399886790524796|\n",
      "|        118266|        59|       0.613| 0.618|  8| -11.831|       0.568|             0.0|   0.727|   0.94|172.741|2012|[118266.0,0.613,0...|22.000869148060982|\n",
      "|        118773|         2|       0.521| 0.712|  4|   -4.44|       0.311|             0.0|   0.384|  0.812|118.029|2017|[118773.0,0.521,0...|26.901047301018984|\n",
      "|        120084|         6|       0.792| 0.737|  7| -12.668|       0.397|         7.42E-5|  0.0628|  0.952|133.931|2014|[120084.0,0.792,0...| 24.08323814997174|\n",
      "|        120466|        10|        0.42| 0.256|  2| -12.063|       0.845|           0.944|   0.099|  0.531| 91.731|2017|[120466.0,0.42,0....|20.191558517999088|\n",
      "|        120880|         0|       0.778| 0.606|  1|  -6.849|      0.0932|             0.0|    0.05|  0.601|107.987|2021|[120880.0,0.778,0...|39.022131979905204|\n",
      "|        121106|         4|        0.57|  0.79|  6|  -6.365|       0.513|             0.0|   0.168|  0.906|156.698|2011|[121106.0,0.57,0....| 28.60601689760712|\n",
      "|        121213|        34|       0.606| 0.344|  1|  -9.944|       0.782|             0.0|   0.132|  0.517| 80.829|2007|[121213.0,0.606,0...| 25.17470343626233|\n",
      "|        121312|        20|       0.741| 0.595| 11|   -7.24|       0.794|         1.39E-6|   0.221|  0.931|124.675|2014|[121312.0,0.741,0...| 25.80916346638542|\n",
      "|        121880|        71|       0.658| 0.709|  8|  -6.736|     0.00188|         0.00447|  0.0657|  0.855|129.701|2000|[121880.0,0.658,0...| 32.87065817624601|\n",
      "|        122760|        55|       0.755| 0.736|  0|  -9.594|       0.657|             0.0|   0.226|  0.953|106.777|1963|[122760.0,0.755,0...|  35.1015136518341|\n",
      "+--------------+----------+------------+------+---+--------+------------+----------------+--------+-------+-------+----+--------------------+------------------+\n",
      "only showing top 20 rows\n",
      "\n"
     ]
    }
   ],
   "source": [
    "prediction.show()"
   ]
  },
  {
   "cell_type": "code",
   "execution_count": 26,
   "metadata": {},
   "outputs": [
    {
     "name": "stdout",
     "output_type": "stream",
     "text": [
      "R2 score: 0.0519098841017408\n",
      "MAE: 25.644937826442057\n",
      "MSE: 836.3719325839145\n",
      "RMSE: 28.92009565309068\n"
     ]
    }
   ],
   "source": [
    "# Evaluate model\n",
    "evaluate_model(prediction)"
   ]
  },
  {
   "attachments": {},
   "cell_type": "markdown",
   "metadata": {},
   "source": [
    "### Second Model: Lasso regression"
   ]
  },
  {
   "cell_type": "code",
   "execution_count": 23,
   "metadata": {},
   "outputs": [],
   "source": [
    "from pyspark.ml.regression import LinearRegression\n",
    "\n",
    "# Using only L1 regularization\n",
    "lasso_regression = LinearRegression(featuresCol=\"features\", labelCol=\"Popularity\", elasticNetParam=1)\n",
    "\n",
    "# Grid\n",
    "params_grid = ParamGridBuilder() \\\n",
    "    .addGrid(lasso_regression.regParam, [0.01, 0.1, 1.0, 10]) \\\n",
    "    .build()\n",
    "\n",
    "cross_validator = CrossValidator(estimator=lasso_regression,\n",
    "                                 estimatorParamMaps=params_grid,\n",
    "                                 evaluator=evaluator,\n",
    "                                 numFolds=5)"
   ]
  },
  {
   "cell_type": "code",
   "execution_count": 24,
   "metadata": {},
   "outputs": [],
   "source": [
    "cvModel = cross_validator.fit(train)\n",
    "best_model_lasso = cvModel.bestModel"
   ]
  },
  {
   "cell_type": "code",
   "execution_count": 27,
   "metadata": {},
   "outputs": [
    {
     "name": "stdout",
     "output_type": "stream",
     "text": [
      "Best Lasso Model\n",
      "\n",
      "Coefficients:  [4.8777725920173445e-06,17.70209526969712,-7.753719327412031,0.04268624045429491,1.0651030565776527,-2.6922296545157476,-7.931265775565377,-6.526539525541157,-7.977986126727718,0.007775770258983764,-0.29451294961949426]\n",
      "Bias: 633.82\n"
     ]
    }
   ],
   "source": [
    "print(\"Best Lasso Model\\n\\r\")\n",
    "print(\"Coefficients: \", best_model_lasso.coefficients)\n",
    "print(\"Bias: {:.2f}\".format(best_model_lasso.intercept))"
   ]
  },
  {
   "cell_type": "code",
   "execution_count": 28,
   "metadata": {},
   "outputs": [
    {
     "name": "stdout",
     "output_type": "stream",
     "text": [
      "Feature Importance:\n",
      "  Danceability: 17.70\n",
      "  Valence: 7.98\n",
      "  Instrumentalness: 7.93\n",
      "  Energy: 7.75\n",
      "  Liveness: 6.53\n",
      "  Acousticness: 2.69\n",
      "  Loudness: 1.07\n",
      "  Year: 0.29\n",
      "  Key: 0.04\n",
      "  Tempo: 0.01\n",
      "  Track_duration: 0.00\n"
     ]
    }
   ],
   "source": [
    "features_importance = sorted(list(zip(input_cols, \n",
    "                                     map(abs, best_model_lasso.coefficients))), \n",
    "                                     key=lambda x: x[1], \n",
    "                                     reverse=True)\n",
    "\n",
    "print(\"Feature Importance:\")\n",
    "for feature, importance in features_importance:\n",
    "    print(\"  {}: {:.2f}\".format(feature, importance))"
   ]
  },
  {
   "cell_type": "code",
   "execution_count": 29,
   "metadata": {},
   "outputs": [
    {
     "name": "stdout",
     "output_type": "stream",
     "text": [
      "+--------------+----------+------------+------+---+--------+------------+----------------+--------+-------+-------+----+--------------------+------------------+\n",
      "|Track_duration|Popularity|Danceability|Energy|Key|Loudness|Acousticness|Instrumentalness|Liveness|Valence|  Tempo|Year|            features|        prediction|\n",
      "+--------------+----------+------------+------+---+--------+------------+----------------+--------+-------+-------+----+--------------------+------------------+\n",
      "|         97506|        30|       0.521| 0.765|  8|  -6.985|       0.838|         1.61E-6|   0.333|  0.824|123.591|2008|[97506.0,0.521,0....|29.064259778850555|\n",
      "|        105200|         0|       0.485| 0.935|  7|   -3.62|     0.00183|           0.873|  0.0915|   0.97|158.427|2005|[105200.0,0.485,0...|27.580735510736076|\n",
      "|        106293|        10|       0.716| 0.395| 11|  -8.989|         0.4|         2.95E-6|  0.0921|  0.585|130.536|1966|[106293.0,0.716,0...|50.503212316571194|\n",
      "|        107386|        26|        0.57| 0.867|  0|  -6.556|      3.6E-5|          0.0174|     0.2|  0.818|100.318|2005|[107386.0,0.57,0....| 33.04088605285449|\n",
      "|        111293|        55|       0.383| 0.739|  9|  -6.841|      0.0034|           0.218|     0.1|  0.306| 92.879|1996|[111293.0,0.383,0...| 36.55283642773213|\n",
      "|        114040|        18|       0.853| 0.414|  0|  -11.52|       0.825|         1.63E-4|   0.172|  0.969|116.448|2009|[114040.0,0.853,0...|  32.1494562563164|\n",
      "|        114986|        55|       0.617| 0.711|  9|  -6.433|        0.36|         1.59E-6|  0.0841|  0.963|142.266|1997|[114986.0,0.617,0...| 37.08550486619208|\n",
      "|        116750|        75|       0.722| 0.893|  0|  -3.255|      0.0441|         9.37E-4|  0.0673|  0.439|119.932|2021|[116750.0,0.722,0...|38.433565805633634|\n",
      "|        117600|        35|        0.59| 0.568|  5| -11.295|       0.832|             0.0|   0.272|  0.777|144.572|1987|[117600.0,0.59,0....| 34.32971391130354|\n",
      "|        117953|         0|       0.707| 0.616|  0|  -8.512|       0.432|             0.0|   0.104|   0.97|111.476|1977|[117953.0,0.707,0...|42.102534771393834|\n",
      "|        118266|        59|       0.613| 0.618|  8| -11.831|       0.568|             0.0|   0.727|   0.94|172.741|2012|[118266.0,0.613,0...|23.206561553671804|\n",
      "|        118773|         2|       0.521| 0.712|  4|   -4.44|       0.311|             0.0|   0.384|  0.812|118.029|2017|[118773.0,0.521,0...| 30.60671954432064|\n",
      "|        120084|         6|       0.792| 0.737|  7| -12.668|       0.397|         7.42E-5|  0.0628|  0.952|133.931|2014|[120084.0,0.792,0...|28.335405246103278|\n",
      "|        120466|        10|        0.42| 0.256|  2| -12.063|       0.845|           0.944|   0.099|  0.531| 91.731|2017|[120466.0,0.42,0....|19.130734055653306|\n",
      "|        120880|         0|       0.778| 0.606|  1|  -6.849|      0.0932|             0.0|    0.05|  0.601|107.987|2021|[120880.0,0.778,0...|36.487888569136544|\n",
      "|        121106|         4|        0.57|  0.79|  6|  -6.365|       0.513|             0.0|   0.168|  0.906|156.698|2011|[121106.0,0.57,0....|31.099491454705344|\n",
      "|        121213|        34|       0.606| 0.344|  1|  -9.944|       0.782|             0.0|   0.132|  0.517| 80.829|2007|[121213.0,0.606,0...| 34.37230671819566|\n",
      "|        121312|        20|       0.741| 0.595| 11|   -7.24|       0.794|         1.39E-6|   0.221|  0.931|124.675|2014|[121312.0,0.741,0...| 32.48656971832679|\n",
      "|        121880|        71|       0.658| 0.709|  8|  -6.736|     0.00188|         0.00447|  0.0657|  0.855|129.701|2000|[121880.0,0.658,0...| 38.42418367192158|\n",
      "|        122760|        55|       0.755| 0.736|  0|  -9.594|       0.657|             0.0|   0.226|  0.953|106.777|1963|[122760.0,0.755,0...| 43.71307419068091|\n",
      "+--------------+----------+------------+------+---+--------+------------+----------------+--------+-------+-------+----+--------------------+------------------+\n",
      "only showing top 20 rows\n",
      "\n"
     ]
    }
   ],
   "source": [
    "# Make predictions on the test data\n",
    "prediction = best_model_lasso.transform(test)\n",
    "prediction.show()"
   ]
  },
  {
   "cell_type": "code",
   "execution_count": 30,
   "metadata": {},
   "outputs": [
    {
     "name": "stdout",
     "output_type": "stream",
     "text": [
      "R2 score: 0.018507339662392375\n",
      "MAE: 26.031246075989916\n",
      "MSE: 865.8384887450757\n",
      "RMSE: 29.425133623232295\n"
     ]
    }
   ],
   "source": [
    "# Evaluate model\n",
    "evaluate_model(prediction)"
   ]
  },
  {
   "attachments": {},
   "cell_type": "markdown",
   "metadata": {},
   "source": [
    "### Third Model: Decision Tree Regression"
   ]
  },
  {
   "cell_type": "code",
   "execution_count": 31,
   "metadata": {},
   "outputs": [],
   "source": [
    "from pyspark.ml.regression import DecisionTreeRegressor\n",
    "\n",
    "# Using only L1 regularization\n",
    "dtr = DecisionTreeRegressor(featuresCol=\"features\", labelCol=\"Popularity\", predictionCol = \"prediction\")\n",
    "\n",
    "# Grid\n",
    "params_grid = ParamGridBuilder() \\\n",
    "    .addGrid(dtr.maxBins, [23,27,30, 32]) \\\n",
    "    .addGrid(dtr.maxDepth, [1, 5, 8, 10, 15]) \\\n",
    "    .build()"
   ]
  },
  {
   "cell_type": "code",
   "execution_count": 32,
   "metadata": {},
   "outputs": [],
   "source": [
    "crossval = CrossValidator(estimator=dtr,\n",
    "                          estimatorParamMaps=params_grid,\n",
    "                          evaluator=evaluator,\n",
    "                          numFolds=5)\n",
    "\n",
    "# Run cross-validation, and choose the best set of parameters.\n",
    "cvModel = crossval.fit(train)"
   ]
  },
  {
   "cell_type": "code",
   "execution_count": 33,
   "metadata": {},
   "outputs": [],
   "source": [
    "best_model_dtr = cvModel.bestModel\n",
    "predictions = best_model_dtr.transform(test)"
   ]
  },
  {
   "cell_type": "code",
   "execution_count": 34,
   "metadata": {},
   "outputs": [
    {
     "name": "stdout",
     "output_type": "stream",
     "text": [
      "+--------------+----------+------------+------+---+--------+------------+----------------+--------+-------+-------+----+--------------------+------------------+\n",
      "|Track_duration|Popularity|Danceability|Energy|Key|Loudness|Acousticness|Instrumentalness|Liveness|Valence|  Tempo|Year|            features|        prediction|\n",
      "+--------------+----------+------------+------+---+--------+------------+----------------+--------+-------+-------+----+--------------------+------------------+\n",
      "|         97506|        30|       0.521| 0.765|  8|  -6.985|       0.838|         1.61E-6|   0.333|  0.824|123.591|2008|[97506.0,0.521,0....|18.927125506072876|\n",
      "|        105200|         0|       0.485| 0.935|  7|   -3.62|     0.00183|           0.873|  0.0915|   0.97|158.427|2005|[105200.0,0.485,0...|31.213483146067414|\n",
      "|        106293|        10|       0.716| 0.395| 11|  -8.989|         0.4|         2.95E-6|  0.0921|  0.585|130.536|1966|[106293.0,0.716,0...|30.612244897959183|\n",
      "|        107386|        26|        0.57| 0.867|  0|  -6.556|      3.6E-5|          0.0174|     0.2|  0.818|100.318|2005|[107386.0,0.57,0....|31.213483146067414|\n",
      "|        111293|        55|       0.383| 0.739|  9|  -6.841|      0.0034|           0.218|     0.1|  0.306| 92.879|1996|[111293.0,0.383,0...|31.213483146067414|\n",
      "|        114040|        18|       0.853| 0.414|  0|  -11.52|       0.825|         1.63E-4|   0.172|  0.969|116.448|2009|[114040.0,0.853,0...|18.927125506072876|\n",
      "|        114986|        55|       0.617| 0.711|  9|  -6.433|        0.36|         1.59E-6|  0.0841|  0.963|142.266|1997|[114986.0,0.617,0...|31.213483146067414|\n",
      "|        116750|        75|       0.722| 0.893|  0|  -3.255|      0.0441|         9.37E-4|  0.0673|  0.439|119.932|2021|[116750.0,0.722,0...| 39.62820512820513|\n",
      "|        117600|        35|        0.59| 0.568|  5| -11.295|       0.832|             0.0|   0.272|  0.777|144.572|1987|[117600.0,0.59,0....|31.213483146067414|\n",
      "|        117953|         0|       0.707| 0.616|  0|  -8.512|       0.432|             0.0|   0.104|   0.97|111.476|1977|[117953.0,0.707,0...|44.481818181818184|\n",
      "|        118266|        59|       0.613| 0.618|  8| -11.831|       0.568|             0.0|   0.727|   0.94|172.741|2012|[118266.0,0.613,0...|18.927125506072876|\n",
      "|        118773|         2|       0.521| 0.712|  4|   -4.44|       0.311|             0.0|   0.384|  0.812|118.029|2017|[118773.0,0.521,0...|18.927125506072876|\n",
      "|        120084|         6|       0.792| 0.737|  7| -12.668|       0.397|         7.42E-5|  0.0628|  0.952|133.931|2014|[120084.0,0.792,0...|18.927125506072876|\n",
      "|        120466|        10|        0.42| 0.256|  2| -12.063|       0.845|           0.944|   0.099|  0.531| 91.731|2017|[120466.0,0.42,0....|18.927125506072876|\n",
      "|        120880|         0|       0.778| 0.606|  1|  -6.849|      0.0932|             0.0|    0.05|  0.601|107.987|2021|[120880.0,0.778,0...| 49.91379310344828|\n",
      "|        121106|         4|        0.57|  0.79|  6|  -6.365|       0.513|             0.0|   0.168|  0.906|156.698|2011|[121106.0,0.57,0....|18.927125506072876|\n",
      "|        121213|        34|       0.606| 0.344|  1|  -9.944|       0.782|             0.0|   0.132|  0.517| 80.829|2007|[121213.0,0.606,0...|31.213483146067414|\n",
      "|        121312|        20|       0.741| 0.595| 11|   -7.24|       0.794|         1.39E-6|   0.221|  0.931|124.675|2014|[121312.0,0.741,0...|18.927125506072876|\n",
      "|        121880|        71|       0.658| 0.709|  8|  -6.736|     0.00188|         0.00447|  0.0657|  0.855|129.701|2000|[121880.0,0.658,0...|31.213483146067414|\n",
      "|        122760|        55|       0.755| 0.736|  0|  -9.594|       0.657|             0.0|   0.226|  0.953|106.777|1963|[122760.0,0.755,0...|44.481818181818184|\n",
      "+--------------+----------+------------+------+---+--------+------------+----------------+--------+-------+-------+----+--------------------+------------------+\n",
      "only showing top 20 rows\n",
      "\n"
     ]
    }
   ],
   "source": [
    "predictions.show()"
   ]
  },
  {
   "cell_type": "code",
   "execution_count": 35,
   "metadata": {},
   "outputs": [
    {
     "name": "stdout",
     "output_type": "stream",
     "text": [
      "R2 score: 0.038750535024797084\n",
      "MAE: 25.52352904729838\n",
      "MSE: 847.9806499774105\n",
      "RMSE: 29.12010731397483\n"
     ]
    }
   ],
   "source": [
    "# Evaluate model\n",
    "evaluate_model(predictions)"
   ]
  },
  {
   "attachments": {},
   "cell_type": "markdown",
   "metadata": {},
   "source": [
    "### Fourth Model: ANN for regression"
   ]
  },
  {
   "attachments": {},
   "cell_type": "markdown",
   "metadata": {},
   "source": [
    "Using tensor flow for an ANN (Artificial Neural Network model)."
   ]
  },
  {
   "cell_type": "code",
   "execution_count": 36,
   "metadata": {},
   "outputs": [],
   "source": [
    "df_pandas = df.toPandas()"
   ]
  },
  {
   "cell_type": "code",
   "execution_count": 37,
   "metadata": {},
   "outputs": [
    {
     "data": {
      "text/html": [
       "<div>\n",
       "<style scoped>\n",
       "    .dataframe tbody tr th:only-of-type {\n",
       "        vertical-align: middle;\n",
       "    }\n",
       "\n",
       "    .dataframe tbody tr th {\n",
       "        vertical-align: top;\n",
       "    }\n",
       "\n",
       "    .dataframe thead th {\n",
       "        text-align: right;\n",
       "    }\n",
       "</style>\n",
       "<table border=\"1\" class=\"dataframe\">\n",
       "  <thead>\n",
       "    <tr style=\"text-align: right;\">\n",
       "      <th></th>\n",
       "      <th>Track_duration</th>\n",
       "      <th>Popularity</th>\n",
       "      <th>Danceability</th>\n",
       "      <th>Energy</th>\n",
       "      <th>Key</th>\n",
       "      <th>Loudness</th>\n",
       "      <th>Acousticness</th>\n",
       "      <th>Instrumentalness</th>\n",
       "      <th>Liveness</th>\n",
       "      <th>Valence</th>\n",
       "      <th>Tempo</th>\n",
       "      <th>Year</th>\n",
       "    </tr>\n",
       "  </thead>\n",
       "  <tbody>\n",
       "    <tr>\n",
       "      <th>0</th>\n",
       "      <td>216270</td>\n",
       "      <td>0</td>\n",
       "      <td>0.617</td>\n",
       "      <td>0.872</td>\n",
       "      <td>8</td>\n",
       "      <td>-12.305</td>\n",
       "      <td>0.0158</td>\n",
       "      <td>0.112000</td>\n",
       "      <td>0.4080</td>\n",
       "      <td>0.504</td>\n",
       "      <td>111.458</td>\n",
       "      <td>1992</td>\n",
       "    </tr>\n",
       "    <tr>\n",
       "      <th>1</th>\n",
       "      <td>237120</td>\n",
       "      <td>64</td>\n",
       "      <td>0.825</td>\n",
       "      <td>0.743</td>\n",
       "      <td>2</td>\n",
       "      <td>-5.995</td>\n",
       "      <td>0.0142</td>\n",
       "      <td>0.000021</td>\n",
       "      <td>0.2370</td>\n",
       "      <td>0.800</td>\n",
       "      <td>127.045</td>\n",
       "      <td>2009</td>\n",
       "    </tr>\n",
       "    <tr>\n",
       "      <th>2</th>\n",
       "      <td>312533</td>\n",
       "      <td>56</td>\n",
       "      <td>0.677</td>\n",
       "      <td>0.665</td>\n",
       "      <td>7</td>\n",
       "      <td>-5.171</td>\n",
       "      <td>0.5600</td>\n",
       "      <td>0.000001</td>\n",
       "      <td>0.3380</td>\n",
       "      <td>0.706</td>\n",
       "      <td>74.981</td>\n",
       "      <td>1999</td>\n",
       "    </tr>\n",
       "    <tr>\n",
       "      <th>3</th>\n",
       "      <td>233400</td>\n",
       "      <td>42</td>\n",
       "      <td>0.683</td>\n",
       "      <td>0.728</td>\n",
       "      <td>9</td>\n",
       "      <td>-8.920</td>\n",
       "      <td>0.5680</td>\n",
       "      <td>0.000051</td>\n",
       "      <td>0.0384</td>\n",
       "      <td>0.833</td>\n",
       "      <td>75.311</td>\n",
       "      <td>2014</td>\n",
       "    </tr>\n",
       "    <tr>\n",
       "      <th>4</th>\n",
       "      <td>448720</td>\n",
       "      <td>0</td>\n",
       "      <td>0.319</td>\n",
       "      <td>0.627</td>\n",
       "      <td>0</td>\n",
       "      <td>-9.611</td>\n",
       "      <td>0.6750</td>\n",
       "      <td>0.000073</td>\n",
       "      <td>0.2890</td>\n",
       "      <td>0.497</td>\n",
       "      <td>85.818</td>\n",
       "      <td>1969</td>\n",
       "    </tr>\n",
       "  </tbody>\n",
       "</table>\n",
       "</div>"
      ],
      "text/plain": [
       "   Track_duration  Popularity  Danceability  Energy  Key  Loudness  \\\n",
       "0          216270           0         0.617   0.872    8   -12.305   \n",
       "1          237120          64         0.825   0.743    2    -5.995   \n",
       "2          312533          56         0.677   0.665    7    -5.171   \n",
       "3          233400          42         0.683   0.728    9    -8.920   \n",
       "4          448720           0         0.319   0.627    0    -9.611   \n",
       "\n",
       "   Acousticness  Instrumentalness  Liveness  Valence    Tempo  Year  \n",
       "0        0.0158          0.112000    0.4080    0.504  111.458  1992  \n",
       "1        0.0142          0.000021    0.2370    0.800  127.045  2009  \n",
       "2        0.5600          0.000001    0.3380    0.706   74.981  1999  \n",
       "3        0.5680          0.000051    0.0384    0.833   75.311  2014  \n",
       "4        0.6750          0.000073    0.2890    0.497   85.818  1969  "
      ]
     },
     "execution_count": 37,
     "metadata": {},
     "output_type": "execute_result"
    }
   ],
   "source": [
    "df_pandas.head()"
   ]
  },
  {
   "cell_type": "code",
   "execution_count": 38,
   "metadata": {},
   "outputs": [],
   "source": [
    "import tensorflow as tf\n",
    "from tensorflow import keras\n",
    "from keras import layers"
   ]
  },
  {
   "cell_type": "code",
   "execution_count": 39,
   "metadata": {},
   "outputs": [],
   "source": [
    "train_ann = train.toPandas()\n",
    "test_ann = test.toPandas()"
   ]
  },
  {
   "cell_type": "code",
   "execution_count": 40,
   "metadata": {},
   "outputs": [],
   "source": [
    "train_ann.drop(columns = ['features'], inplace=True)\n",
    "test_ann.drop(columns = ['features'], inplace=True)"
   ]
  },
  {
   "attachments": {},
   "cell_type": "markdown",
   "metadata": {},
   "source": [
    "Let's make a few changes in dataset to use sigmoid function for popularity."
   ]
  },
  {
   "cell_type": "code",
   "execution_count": 41,
   "metadata": {},
   "outputs": [],
   "source": [
    "df_pandas['Popularity'] = df_pandas['Popularity'].astype(float)"
   ]
  },
  {
   "attachments": {},
   "cell_type": "markdown",
   "metadata": {},
   "source": [
    "Let's scale the dataset to improve ann results."
   ]
  },
  {
   "cell_type": "code",
   "execution_count": 42,
   "metadata": {},
   "outputs": [],
   "source": [
    "from sklearn.preprocessing import MinMaxScaler\n",
    "\n",
    "scaler = MinMaxScaler()\n",
    "scaler.fit(df_pandas)\n",
    "\n",
    "df_scaled = pd.DataFrame(scaler.transform(df_pandas))"
   ]
  },
  {
   "cell_type": "code",
   "execution_count": 43,
   "metadata": {},
   "outputs": [
    {
     "data": {
      "text/html": [
       "<div>\n",
       "<style scoped>\n",
       "    .dataframe tbody tr th:only-of-type {\n",
       "        vertical-align: middle;\n",
       "    }\n",
       "\n",
       "    .dataframe tbody tr th {\n",
       "        vertical-align: top;\n",
       "    }\n",
       "\n",
       "    .dataframe thead th {\n",
       "        text-align: right;\n",
       "    }\n",
       "</style>\n",
       "<table border=\"1\" class=\"dataframe\">\n",
       "  <thead>\n",
       "    <tr style=\"text-align: right;\">\n",
       "      <th></th>\n",
       "      <th>0</th>\n",
       "      <th>1</th>\n",
       "      <th>2</th>\n",
       "      <th>3</th>\n",
       "      <th>4</th>\n",
       "      <th>5</th>\n",
       "      <th>6</th>\n",
       "      <th>7</th>\n",
       "      <th>8</th>\n",
       "      <th>9</th>\n",
       "      <th>10</th>\n",
       "      <th>11</th>\n",
       "    </tr>\n",
       "  </thead>\n",
       "  <tbody>\n",
       "    <tr>\n",
       "      <th>0</th>\n",
       "      <td>0.085069</td>\n",
       "      <td>0.000000</td>\n",
       "      <td>0.582489</td>\n",
       "      <td>0.874621</td>\n",
       "      <td>0.727273</td>\n",
       "      <td>0.586519</td>\n",
       "      <td>0.015941</td>\n",
       "      <td>0.113706</td>\n",
       "      <td>0.405322</td>\n",
       "      <td>0.489393</td>\n",
       "      <td>0.418005</td>\n",
       "      <td>0.537313</td>\n",
       "    </tr>\n",
       "    <tr>\n",
       "      <th>1</th>\n",
       "      <td>0.099254</td>\n",
       "      <td>0.653061</td>\n",
       "      <td>0.816565</td>\n",
       "      <td>0.745231</td>\n",
       "      <td>0.181818</td>\n",
       "      <td>0.803417</td>\n",
       "      <td>0.014326</td>\n",
       "      <td>0.000022</td>\n",
       "      <td>0.230297</td>\n",
       "      <td>0.797213</td>\n",
       "      <td>0.503220</td>\n",
       "      <td>0.791045</td>\n",
       "    </tr>\n",
       "    <tr>\n",
       "      <th>2</th>\n",
       "      <td>0.150559</td>\n",
       "      <td>0.571429</td>\n",
       "      <td>0.650011</td>\n",
       "      <td>0.666994</td>\n",
       "      <td>0.636364</td>\n",
       "      <td>0.831741</td>\n",
       "      <td>0.565085</td>\n",
       "      <td>0.000001</td>\n",
       "      <td>0.333675</td>\n",
       "      <td>0.699459</td>\n",
       "      <td>0.218584</td>\n",
       "      <td>0.641791</td>\n",
       "    </tr>\n",
       "    <tr>\n",
       "      <th>3</th>\n",
       "      <td>0.096723</td>\n",
       "      <td>0.428571</td>\n",
       "      <td>0.656763</td>\n",
       "      <td>0.730185</td>\n",
       "      <td>0.818182</td>\n",
       "      <td>0.702874</td>\n",
       "      <td>0.573157</td>\n",
       "      <td>0.000052</td>\n",
       "      <td>0.027021</td>\n",
       "      <td>0.831531</td>\n",
       "      <td>0.220388</td>\n",
       "      <td>0.865672</td>\n",
       "    </tr>\n",
       "    <tr>\n",
       "      <th>4</th>\n",
       "      <td>0.243209</td>\n",
       "      <td>0.000000</td>\n",
       "      <td>0.247130</td>\n",
       "      <td>0.628879</td>\n",
       "      <td>0.000000</td>\n",
       "      <td>0.679121</td>\n",
       "      <td>0.681129</td>\n",
       "      <td>0.000074</td>\n",
       "      <td>0.283521</td>\n",
       "      <td>0.482113</td>\n",
       "      <td>0.277830</td>\n",
       "      <td>0.194030</td>\n",
       "    </tr>\n",
       "    <tr>\n",
       "      <th>5</th>\n",
       "      <td>0.069474</td>\n",
       "      <td>0.806122</td>\n",
       "      <td>0.643259</td>\n",
       "      <td>0.712131</td>\n",
       "      <td>0.818182</td>\n",
       "      <td>0.743985</td>\n",
       "      <td>0.039654</td>\n",
       "      <td>0.000011</td>\n",
       "      <td>0.027329</td>\n",
       "      <td>0.832571</td>\n",
       "      <td>0.457844</td>\n",
       "      <td>0.313433</td>\n",
       "    </tr>\n",
       "    <tr>\n",
       "      <th>6</th>\n",
       "      <td>0.056176</td>\n",
       "      <td>0.795918</td>\n",
       "      <td>0.518343</td>\n",
       "      <td>0.682040</td>\n",
       "      <td>0.545455</td>\n",
       "      <td>0.746597</td>\n",
       "      <td>0.560039</td>\n",
       "      <td>0.000000</td>\n",
       "      <td>0.106448</td>\n",
       "      <td>0.297005</td>\n",
       "      <td>0.297364</td>\n",
       "      <td>0.925373</td>\n",
       "    </tr>\n",
       "    <tr>\n",
       "      <th>7</th>\n",
       "      <td>0.101585</td>\n",
       "      <td>0.622449</td>\n",
       "      <td>0.428314</td>\n",
       "      <td>0.629882</td>\n",
       "      <td>0.545455</td>\n",
       "      <td>0.746769</td>\n",
       "      <td>0.175578</td>\n",
       "      <td>0.000033</td>\n",
       "      <td>0.064790</td>\n",
       "      <td>0.527870</td>\n",
       "      <td>0.592699</td>\n",
       "      <td>0.611940</td>\n",
       "    </tr>\n",
       "    <tr>\n",
       "      <th>8</th>\n",
       "      <td>0.114683</td>\n",
       "      <td>0.755102</td>\n",
       "      <td>0.289894</td>\n",
       "      <td>0.654958</td>\n",
       "      <td>0.818182</td>\n",
       "      <td>0.818576</td>\n",
       "      <td>0.083549</td>\n",
       "      <td>0.000000</td>\n",
       "      <td>0.074104</td>\n",
       "      <td>0.508111</td>\n",
       "      <td>0.774397</td>\n",
       "      <td>0.373134</td>\n",
       "    </tr>\n",
       "    <tr>\n",
       "      <th>9</th>\n",
       "      <td>0.079942</td>\n",
       "      <td>0.000000</td>\n",
       "      <td>0.520594</td>\n",
       "      <td>0.683043</td>\n",
       "      <td>1.000000</td>\n",
       "      <td>0.839887</td>\n",
       "      <td>0.114024</td>\n",
       "      <td>0.000000</td>\n",
       "      <td>0.100307</td>\n",
       "      <td>0.336522</td>\n",
       "      <td>0.618132</td>\n",
       "      <td>0.895522</td>\n",
       "    </tr>\n",
       "  </tbody>\n",
       "</table>\n",
       "</div>"
      ],
      "text/plain": [
       "         0         1         2         3         4         5         6   \\\n",
       "0  0.085069  0.000000  0.582489  0.874621  0.727273  0.586519  0.015941   \n",
       "1  0.099254  0.653061  0.816565  0.745231  0.181818  0.803417  0.014326   \n",
       "2  0.150559  0.571429  0.650011  0.666994  0.636364  0.831741  0.565085   \n",
       "3  0.096723  0.428571  0.656763  0.730185  0.818182  0.702874  0.573157   \n",
       "4  0.243209  0.000000  0.247130  0.628879  0.000000  0.679121  0.681129   \n",
       "5  0.069474  0.806122  0.643259  0.712131  0.818182  0.743985  0.039654   \n",
       "6  0.056176  0.795918  0.518343  0.682040  0.545455  0.746597  0.560039   \n",
       "7  0.101585  0.622449  0.428314  0.629882  0.545455  0.746769  0.175578   \n",
       "8  0.114683  0.755102  0.289894  0.654958  0.818182  0.818576  0.083549   \n",
       "9  0.079942  0.000000  0.520594  0.683043  1.000000  0.839887  0.114024   \n",
       "\n",
       "         7         8         9         10        11  \n",
       "0  0.113706  0.405322  0.489393  0.418005  0.537313  \n",
       "1  0.000022  0.230297  0.797213  0.503220  0.791045  \n",
       "2  0.000001  0.333675  0.699459  0.218584  0.641791  \n",
       "3  0.000052  0.027021  0.831531  0.220388  0.865672  \n",
       "4  0.000074  0.283521  0.482113  0.277830  0.194030  \n",
       "5  0.000011  0.027329  0.832571  0.457844  0.313433  \n",
       "6  0.000000  0.106448  0.297005  0.297364  0.925373  \n",
       "7  0.000033  0.064790  0.527870  0.592699  0.611940  \n",
       "8  0.000000  0.074104  0.508111  0.774397  0.373134  \n",
       "9  0.000000  0.100307  0.336522  0.618132  0.895522  "
      ]
     },
     "execution_count": 43,
     "metadata": {},
     "output_type": "execute_result"
    }
   ],
   "source": [
    "df_scaled.head(10)"
   ]
  },
  {
   "cell_type": "code",
   "execution_count": 36,
   "metadata": {},
   "outputs": [],
   "source": [
    "#df_pandas['Popularity'] = df_pandas['Popularity'].apply(lambda x:x/100)\n",
    "#df_pandas.head()"
   ]
  },
  {
   "cell_type": "code",
   "execution_count": 44,
   "metadata": {},
   "outputs": [],
   "source": [
    "train_ann['Popularity'] = train_ann['Popularity'].astype(float)\n",
    "#train_ann['Popularity'] = train_ann['Popularity'].apply(lambda x:x/100)\n",
    "test_ann['Popularity'] = test_ann['Popularity'].astype(float)\n",
    "#test_ann['Popularity'] = test_ann['Popularity'].apply(lambda x:x/100)\n",
    "\n",
    "scaler.fit(train_ann)\n",
    "train_ann = pd.DataFrame(scaler.transform(train_ann))\n",
    "\n",
    "scaler.fit(test_ann)\n",
    "test_ann = pd.DataFrame(scaler.transform(test_ann))"
   ]
  },
  {
   "cell_type": "code",
   "execution_count": 137,
   "metadata": {},
   "outputs": [],
   "source": [
    "#df = df_pandas.astype(float)"
   ]
  },
  {
   "cell_type": "code",
   "execution_count": 138,
   "metadata": {},
   "outputs": [],
   "source": [
    "#train_ann = train_ann.astype(float)\n",
    "#test_ann = test_ann.astype(float)"
   ]
  },
  {
   "attachments": {},
   "cell_type": "markdown",
   "metadata": {},
   "source": [
    "Model will consist of 5 layers: 11 neurons input, 8,  6 and 4 neurons hidden layers and an output layer (1 neuron)."
   ]
  },
  {
   "cell_type": "code",
   "execution_count": 54,
   "metadata": {},
   "outputs": [],
   "source": [
    "model_ann = keras.Sequential([\n",
    "    keras.layers.Dense(8, input_shape=(11,), activation='relu'),\n",
    "    keras.layers.Dense(6, activation = 'sigmoid'),\n",
    "    keras.layers.Dense(4, activation = 'relu'),\n",
    "    keras.layers.Dense(1, activation = 'relu')\n",
    "])"
   ]
  },
  {
   "cell_type": "code",
   "execution_count": 55,
   "metadata": {},
   "outputs": [],
   "source": [
    "opt = tf.keras.optimizers.experimental.Adam(\n",
    "    learning_rate=0.01\n",
    ")\n",
    "\n",
    "model_ann.compile(optimizer=opt,\n",
    "              loss='mse',\n",
    "              metrics=['mse', 'mae']\n",
    "            )"
   ]
  },
  {
   "cell_type": "code",
   "execution_count": 56,
   "metadata": {},
   "outputs": [],
   "source": [
    "X = train_ann.drop(columns = [1]).copy()\n",
    "y = train_ann[1].copy()"
   ]
  },
  {
   "cell_type": "code",
   "execution_count": 57,
   "metadata": {},
   "outputs": [
    {
     "name": "stdout",
     "output_type": "stream",
     "text": [
      "Epoch 1/20\n",
      "237/237 [==============================] - 2s 2ms/step - loss: 0.0914 - mse: 0.0914 - mae: 0.2686\n",
      "Epoch 2/20\n",
      "237/237 [==============================] - 0s 2ms/step - loss: 0.0895 - mse: 0.0895 - mae: 0.2657\n",
      "Epoch 3/20\n",
      "237/237 [==============================] - 0s 2ms/step - loss: 0.0895 - mse: 0.0895 - mae: 0.2651\n",
      "Epoch 4/20\n",
      "237/237 [==============================] - 0s 2ms/step - loss: 0.0894 - mse: 0.0894 - mae: 0.2650\n",
      "Epoch 5/20\n",
      "237/237 [==============================] - 0s 2ms/step - loss: 0.0894 - mse: 0.0894 - mae: 0.2650\n",
      "Epoch 6/20\n",
      "237/237 [==============================] - 0s 2ms/step - loss: 0.0890 - mse: 0.0890 - mae: 0.2645\n",
      "Epoch 7/20\n",
      "237/237 [==============================] - 0s 2ms/step - loss: 0.0888 - mse: 0.0888 - mae: 0.2635\n",
      "Epoch 8/20\n",
      "237/237 [==============================] - 0s 2ms/step - loss: 0.0883 - mse: 0.0883 - mae: 0.2632\n",
      "Epoch 9/20\n",
      "237/237 [==============================] - 0s 2ms/step - loss: 0.0884 - mse: 0.0884 - mae: 0.2632\n",
      "Epoch 10/20\n",
      "237/237 [==============================] - 0s 2ms/step - loss: 0.0878 - mse: 0.0878 - mae: 0.2620\n",
      "Epoch 11/20\n",
      "237/237 [==============================] - 1s 2ms/step - loss: 0.0881 - mse: 0.0881 - mae: 0.2620\n",
      "Epoch 12/20\n",
      "237/237 [==============================] - 1s 2ms/step - loss: 0.0881 - mse: 0.0881 - mae: 0.2622\n",
      "Epoch 13/20\n",
      "237/237 [==============================] - 1s 2ms/step - loss: 0.0876 - mse: 0.0876 - mae: 0.2612\n",
      "Epoch 14/20\n",
      "237/237 [==============================] - 0s 2ms/step - loss: 0.0875 - mse: 0.0875 - mae: 0.2609\n",
      "Epoch 15/20\n",
      "237/237 [==============================] - 1s 2ms/step - loss: 0.0874 - mse: 0.0874 - mae: 0.2611\n",
      "Epoch 16/20\n",
      "237/237 [==============================] - 0s 2ms/step - loss: 0.0872 - mse: 0.0872 - mae: 0.2610\n",
      "Epoch 17/20\n",
      "237/237 [==============================] - 0s 2ms/step - loss: 0.0874 - mse: 0.0874 - mae: 0.2610\n",
      "Epoch 18/20\n",
      "237/237 [==============================] - 0s 2ms/step - loss: 0.0875 - mse: 0.0875 - mae: 0.2606\n",
      "Epoch 19/20\n",
      "237/237 [==============================] - 1s 3ms/step - loss: 0.0874 - mse: 0.0874 - mae: 0.2611\n",
      "Epoch 20/20\n",
      "237/237 [==============================] - 0s 2ms/step - loss: 0.0872 - mse: 0.0872 - mae: 0.2606\n"
     ]
    },
    {
     "data": {
      "text/plain": [
       "<keras.src.callbacks.History at 0x1a4095659f0>"
      ]
     },
     "execution_count": 57,
     "metadata": {},
     "output_type": "execute_result"
    }
   ],
   "source": [
    "model_ann.fit(X, y, epochs=20)"
   ]
  },
  {
   "cell_type": "code",
   "execution_count": 58,
   "metadata": {},
   "outputs": [],
   "source": [
    "X_test = test_ann.drop(columns = [1]).copy()\n",
    "y_test = test_ann[1].copy()"
   ]
  },
  {
   "cell_type": "code",
   "execution_count": 59,
   "metadata": {},
   "outputs": [
    {
     "name": "stdout",
     "output_type": "stream",
     "text": [
      "76/76 - 0s - loss: 0.0937 - mse: 0.0937 - mae: 0.2726 - 303ms/epoch - 4ms/step\n"
     ]
    },
    {
     "data": {
      "text/plain": [
       "[0.09371021389961243, 0.09371021389961243, 0.2726251482963562]"
      ]
     },
     "execution_count": 59,
     "metadata": {},
     "output_type": "execute_result"
    }
   ],
   "source": [
    "model_ann.evaluate(X_test,  y_test, verbose=2)"
   ]
  },
  {
   "cell_type": "code",
   "execution_count": 60,
   "metadata": {},
   "outputs": [
    {
     "name": "stdout",
     "output_type": "stream",
     "text": [
      "76/76 [==============================] - 0s 2ms/step\n"
     ]
    }
   ],
   "source": [
    "predictions = model_ann.predict(X_test)"
   ]
  },
  {
   "cell_type": "code",
   "execution_count": 61,
   "metadata": {},
   "outputs": [],
   "source": [
    "results = pd.DataFrame({'Predictions':predictions[0:30].reshape(30,), 'Test':y_test[0:30]})"
   ]
  },
  {
   "cell_type": "code",
   "execution_count": 69,
   "metadata": {},
   "outputs": [
    {
     "data": {
      "text/html": [
       "<div>\n",
       "<style scoped>\n",
       "    .dataframe tbody tr th:only-of-type {\n",
       "        vertical-align: middle;\n",
       "    }\n",
       "\n",
       "    .dataframe tbody tr th {\n",
       "        vertical-align: top;\n",
       "    }\n",
       "\n",
       "    .dataframe thead th {\n",
       "        text-align: right;\n",
       "    }\n",
       "</style>\n",
       "<table border=\"1\" class=\"dataframe\">\n",
       "  <thead>\n",
       "    <tr style=\"text-align: right;\">\n",
       "      <th></th>\n",
       "      <th>Predictions</th>\n",
       "      <th>Test</th>\n",
       "    </tr>\n",
       "  </thead>\n",
       "  <tbody>\n",
       "    <tr>\n",
       "      <th>0</th>\n",
       "      <td>0.171202</td>\n",
       "      <td>0.309278</td>\n",
       "    </tr>\n",
       "    <tr>\n",
       "      <th>1</th>\n",
       "      <td>0.171202</td>\n",
       "      <td>0.000000</td>\n",
       "    </tr>\n",
       "    <tr>\n",
       "      <th>2</th>\n",
       "      <td>0.413452</td>\n",
       "      <td>0.103093</td>\n",
       "    </tr>\n",
       "    <tr>\n",
       "      <th>3</th>\n",
       "      <td>0.286506</td>\n",
       "      <td>0.268041</td>\n",
       "    </tr>\n",
       "    <tr>\n",
       "      <th>4</th>\n",
       "      <td>0.319868</td>\n",
       "      <td>0.567010</td>\n",
       "    </tr>\n",
       "    <tr>\n",
       "      <th>5</th>\n",
       "      <td>0.201266</td>\n",
       "      <td>0.185567</td>\n",
       "    </tr>\n",
       "    <tr>\n",
       "      <th>6</th>\n",
       "      <td>0.309093</td>\n",
       "      <td>0.567010</td>\n",
       "    </tr>\n",
       "    <tr>\n",
       "      <th>7</th>\n",
       "      <td>0.337361</td>\n",
       "      <td>0.773196</td>\n",
       "    </tr>\n",
       "    <tr>\n",
       "      <th>8</th>\n",
       "      <td>0.314118</td>\n",
       "      <td>0.360825</td>\n",
       "    </tr>\n",
       "    <tr>\n",
       "      <th>9</th>\n",
       "      <td>0.415800</td>\n",
       "      <td>0.000000</td>\n",
       "    </tr>\n",
       "    <tr>\n",
       "      <th>10</th>\n",
       "      <td>0.171202</td>\n",
       "      <td>0.608247</td>\n",
       "    </tr>\n",
       "    <tr>\n",
       "      <th>11</th>\n",
       "      <td>0.232338</td>\n",
       "      <td>0.020619</td>\n",
       "    </tr>\n",
       "    <tr>\n",
       "      <th>12</th>\n",
       "      <td>0.222461</td>\n",
       "      <td>0.061856</td>\n",
       "    </tr>\n",
       "    <tr>\n",
       "      <th>13</th>\n",
       "      <td>0.171202</td>\n",
       "      <td>0.103093</td>\n",
       "    </tr>\n",
       "    <tr>\n",
       "      <th>14</th>\n",
       "      <td>0.333267</td>\n",
       "      <td>0.000000</td>\n",
       "    </tr>\n",
       "    <tr>\n",
       "      <th>15</th>\n",
       "      <td>0.205645</td>\n",
       "      <td>0.041237</td>\n",
       "    </tr>\n",
       "    <tr>\n",
       "      <th>16</th>\n",
       "      <td>0.242330</td>\n",
       "      <td>0.350515</td>\n",
       "    </tr>\n",
       "    <tr>\n",
       "      <th>17</th>\n",
       "      <td>0.225916</td>\n",
       "      <td>0.206186</td>\n",
       "    </tr>\n",
       "    <tr>\n",
       "      <th>18</th>\n",
       "      <td>0.335444</td>\n",
       "      <td>0.731959</td>\n",
       "    </tr>\n",
       "    <tr>\n",
       "      <th>19</th>\n",
       "      <td>0.414893</td>\n",
       "      <td>0.567010</td>\n",
       "    </tr>\n",
       "    <tr>\n",
       "      <th>20</th>\n",
       "      <td>0.231968</td>\n",
       "      <td>0.216495</td>\n",
       "    </tr>\n",
       "    <tr>\n",
       "      <th>21</th>\n",
       "      <td>0.410734</td>\n",
       "      <td>0.237113</td>\n",
       "    </tr>\n",
       "    <tr>\n",
       "      <th>22</th>\n",
       "      <td>0.294374</td>\n",
       "      <td>0.474227</td>\n",
       "    </tr>\n",
       "    <tr>\n",
       "      <th>23</th>\n",
       "      <td>0.289161</td>\n",
       "      <td>0.123711</td>\n",
       "    </tr>\n",
       "    <tr>\n",
       "      <th>24</th>\n",
       "      <td>0.400327</td>\n",
       "      <td>0.453608</td>\n",
       "    </tr>\n",
       "    <tr>\n",
       "      <th>25</th>\n",
       "      <td>0.276181</td>\n",
       "      <td>0.577320</td>\n",
       "    </tr>\n",
       "    <tr>\n",
       "      <th>26</th>\n",
       "      <td>0.314046</td>\n",
       "      <td>0.226804</td>\n",
       "    </tr>\n",
       "    <tr>\n",
       "      <th>27</th>\n",
       "      <td>0.417108</td>\n",
       "      <td>0.567010</td>\n",
       "    </tr>\n",
       "    <tr>\n",
       "      <th>28</th>\n",
       "      <td>0.291150</td>\n",
       "      <td>0.030928</td>\n",
       "    </tr>\n",
       "    <tr>\n",
       "      <th>29</th>\n",
       "      <td>0.171202</td>\n",
       "      <td>0.000000</td>\n",
       "    </tr>\n",
       "  </tbody>\n",
       "</table>\n",
       "</div>"
      ],
      "text/plain": [
       "    Predictions      Test\n",
       "0      0.171202  0.309278\n",
       "1      0.171202  0.000000\n",
       "2      0.413452  0.103093\n",
       "3      0.286506  0.268041\n",
       "4      0.319868  0.567010\n",
       "5      0.201266  0.185567\n",
       "6      0.309093  0.567010\n",
       "7      0.337361  0.773196\n",
       "8      0.314118  0.360825\n",
       "9      0.415800  0.000000\n",
       "10     0.171202  0.608247\n",
       "11     0.232338  0.020619\n",
       "12     0.222461  0.061856\n",
       "13     0.171202  0.103093\n",
       "14     0.333267  0.000000\n",
       "15     0.205645  0.041237\n",
       "16     0.242330  0.350515\n",
       "17     0.225916  0.206186\n",
       "18     0.335444  0.731959\n",
       "19     0.414893  0.567010\n",
       "20     0.231968  0.216495\n",
       "21     0.410734  0.237113\n",
       "22     0.294374  0.474227\n",
       "23     0.289161  0.123711\n",
       "24     0.400327  0.453608\n",
       "25     0.276181  0.577320\n",
       "26     0.314046  0.226804\n",
       "27     0.417108  0.567010\n",
       "28     0.291150  0.030928\n",
       "29     0.171202  0.000000"
      ]
     },
     "execution_count": 69,
     "metadata": {},
     "output_type": "execute_result"
    }
   ],
   "source": [
    "results.head(30)"
   ]
  },
  {
   "cell_type": "code",
   "execution_count": 63,
   "metadata": {},
   "outputs": [
    {
     "name": "stdout",
     "output_type": "stream",
     "text": [
      "Max prediction value: 0.41710811853408813 and minimum: 0.1712019145488739\n",
      "Dataset max value: 0.7731958762886598 and minimum: 0.0\n"
     ]
    }
   ],
   "source": [
    "print(f\"Max prediction value: {max(results['Predictions'])} and minimum: {min(results['Predictions'])}\")\n",
    "print(f\"Dataset max value: {max(results['Test'])} and minimum: {min(results['Test'])}\")"
   ]
  },
  {
   "cell_type": "code",
   "execution_count": 75,
   "metadata": {},
   "outputs": [
    {
     "name": "stdout",
     "output_type": "stream",
     "text": [
      "R² score: 0.09486745851267253\n"
     ]
    }
   ],
   "source": [
    "from sklearn.metrics import r2_score\n",
    "\n",
    "print(f\"R² score: {r2_score(results['Test'], results['Predictions'])}\")"
   ]
  },
  {
   "cell_type": "code",
   "execution_count": 76,
   "metadata": {},
   "outputs": [],
   "source": [
    "spark.stop()"
   ]
  }
 ],
 "metadata": {
  "kernelspec": {
   "display_name": "Python 3",
   "language": "python",
   "name": "python3"
  },
  "language_info": {
   "codemirror_mode": {
    "name": "ipython",
    "version": 3
   },
   "file_extension": ".py",
   "mimetype": "text/x-python",
   "name": "python",
   "nbconvert_exporter": "python",
   "pygments_lexer": "ipython3",
   "version": "3.10.11"
  },
  "orig_nbformat": 4,
  "vscode": {
   "interpreter": {
    "hash": "48434fea92bcfa521232aa698a59dbef67c96a63793f88c53e51c3c6eaedc268"
   }
  }
 },
 "nbformat": 4,
 "nbformat_minor": 2
}
